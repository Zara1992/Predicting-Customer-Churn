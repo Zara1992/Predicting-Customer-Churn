{
 "cells": [
  {
   "cell_type": "code",
   "execution_count": 2,
   "metadata": {},
   "outputs": [],
   "source": [
    "import pandas as pd\n",
    "import numpy as np\n",
    "from matplotlib import pyplot as plt\n",
    "pd.set_option('display.max_columns', None)\n",
    "import seaborn as sns\n",
    "\n",
    "\n",
    "from sklearn.model_selection import train_test_split\n",
    "from sklearn.linear_model import LogisticRegression\n",
    "from sklearn.ensemble import RandomForestClassifier\n",
    "from sklearn.svm import SVC\n",
    "from sklearn.tree import DecisionTreeClassifier\n",
    "from sklearn.neighbors import KNeighborsClassifier\n",
    "from sklearn.metrics import accuracy_score, precision_score, recall_score, f1_score, roc_auc_score, confusion_matrix, log_loss\n",
    "\n",
    "from sklearn.model_selection import GridSearchCV\n",
    "from sklearn.preprocessing import StandardScaler\n",
    "from sklearn.decomposition import PCA\n",
    "from sklearn.feature_selection import SelectKBest"
   ]
  },
  {
   "cell_type": "code",
   "execution_count": 3,
   "metadata": {},
   "outputs": [],
   "source": [
    "df_model = pd.read_csv(r\"C:\\Users\\zarah\\Desktop\\Lighthouse Labs\\Final Project\\Churn Project Files\\DataFiles\\df_model.csv\") "
   ]
  },
  {
   "cell_type": "code",
   "execution_count": 4,
   "metadata": {},
   "outputs": [
    {
     "data": {
      "text/plain": [
       "Index(['SeniorCitizen', 'MonthlyCharges_Log', 'TotalCharges_Log',\n",
       "       'PhoneService_new', 'Contract_new', 'PaperlessBilling_new',\n",
       "       'PaymentMethod_new', 'Churn_new', 'gender_new', 'Partner_new',\n",
       "       'Dependents_new', 'MultipleLines_new', 'InternetService_new',\n",
       "       'OnlineSecurity_new', 'OnlineBackup_new', 'DeviceProtection_new',\n",
       "       'TechSupport_new', 'StreamingTV_new', 'StreamingMovies_new',\n",
       "       'tenureCatLabel_new'],\n",
       "      dtype='object')"
      ]
     },
     "execution_count": 4,
     "metadata": {},
     "output_type": "execute_result"
    }
   ],
   "source": [
    "df_model.columns"
   ]
  },
  {
   "cell_type": "code",
   "execution_count": 5,
   "metadata": {},
   "outputs": [],
   "source": [
    "df_model.drop(['PaymentMethod_new', 'Partner_new', 'Dependents_new','DeviceProtection_new','StreamingTV_new', 'StreamingMovies_new','tenureCatLabel_new'], axis=1, inplace=True)"
   ]
  },
  {
   "cell_type": "code",
   "execution_count": 6,
   "metadata": {},
   "outputs": [
    {
     "data": {
      "text/html": [
       "<div>\n",
       "<style scoped>\n",
       "    .dataframe tbody tr th:only-of-type {\n",
       "        vertical-align: middle;\n",
       "    }\n",
       "\n",
       "    .dataframe tbody tr th {\n",
       "        vertical-align: top;\n",
       "    }\n",
       "\n",
       "    .dataframe thead th {\n",
       "        text-align: right;\n",
       "    }\n",
       "</style>\n",
       "<table border=\"1\" class=\"dataframe\">\n",
       "  <thead>\n",
       "    <tr style=\"text-align: right;\">\n",
       "      <th></th>\n",
       "      <th>SeniorCitizen</th>\n",
       "      <th>MonthlyCharges_Log</th>\n",
       "      <th>TotalCharges_Log</th>\n",
       "      <th>PhoneService_new</th>\n",
       "      <th>Contract_new</th>\n",
       "      <th>PaperlessBilling_new</th>\n",
       "      <th>Churn_new</th>\n",
       "      <th>gender_new</th>\n",
       "      <th>MultipleLines_new</th>\n",
       "      <th>InternetService_new</th>\n",
       "      <th>OnlineSecurity_new</th>\n",
       "      <th>OnlineBackup_new</th>\n",
       "      <th>TechSupport_new</th>\n",
       "    </tr>\n",
       "  </thead>\n",
       "  <tbody>\n",
       "    <tr>\n",
       "      <th>0</th>\n",
       "      <td>0</td>\n",
       "      <td>3.396185</td>\n",
       "      <td>3.396185</td>\n",
       "      <td>0</td>\n",
       "      <td>0</td>\n",
       "      <td>1</td>\n",
       "      <td>0</td>\n",
       "      <td>0</td>\n",
       "      <td>1</td>\n",
       "      <td>0</td>\n",
       "      <td>0</td>\n",
       "      <td>2</td>\n",
       "      <td>0</td>\n",
       "    </tr>\n",
       "    <tr>\n",
       "      <th>1</th>\n",
       "      <td>0</td>\n",
       "      <td>4.042174</td>\n",
       "      <td>7.544068</td>\n",
       "      <td>1</td>\n",
       "      <td>1</td>\n",
       "      <td>0</td>\n",
       "      <td>0</td>\n",
       "      <td>1</td>\n",
       "      <td>0</td>\n",
       "      <td>0</td>\n",
       "      <td>2</td>\n",
       "      <td>0</td>\n",
       "      <td>0</td>\n",
       "    </tr>\n",
       "    <tr>\n",
       "      <th>2</th>\n",
       "      <td>0</td>\n",
       "      <td>3.986202</td>\n",
       "      <td>4.683519</td>\n",
       "      <td>1</td>\n",
       "      <td>0</td>\n",
       "      <td>1</td>\n",
       "      <td>1</td>\n",
       "      <td>1</td>\n",
       "      <td>0</td>\n",
       "      <td>0</td>\n",
       "      <td>2</td>\n",
       "      <td>2</td>\n",
       "      <td>0</td>\n",
       "    </tr>\n",
       "    <tr>\n",
       "      <th>3</th>\n",
       "      <td>0</td>\n",
       "      <td>3.744787</td>\n",
       "      <td>7.517928</td>\n",
       "      <td>0</td>\n",
       "      <td>1</td>\n",
       "      <td>0</td>\n",
       "      <td>0</td>\n",
       "      <td>1</td>\n",
       "      <td>1</td>\n",
       "      <td>0</td>\n",
       "      <td>2</td>\n",
       "      <td>0</td>\n",
       "      <td>2</td>\n",
       "    </tr>\n",
       "    <tr>\n",
       "      <th>4</th>\n",
       "      <td>0</td>\n",
       "      <td>4.258446</td>\n",
       "      <td>5.021575</td>\n",
       "      <td>1</td>\n",
       "      <td>0</td>\n",
       "      <td>1</td>\n",
       "      <td>1</td>\n",
       "      <td>0</td>\n",
       "      <td>0</td>\n",
       "      <td>1</td>\n",
       "      <td>0</td>\n",
       "      <td>0</td>\n",
       "      <td>0</td>\n",
       "    </tr>\n",
       "  </tbody>\n",
       "</table>\n",
       "</div>"
      ],
      "text/plain": [
       "   SeniorCitizen  MonthlyCharges_Log  TotalCharges_Log  PhoneService_new  \\\n",
       "0              0            3.396185          3.396185                 0   \n",
       "1              0            4.042174          7.544068                 1   \n",
       "2              0            3.986202          4.683519                 1   \n",
       "3              0            3.744787          7.517928                 0   \n",
       "4              0            4.258446          5.021575                 1   \n",
       "\n",
       "   Contract_new  PaperlessBilling_new  Churn_new  gender_new  \\\n",
       "0             0                     1          0           0   \n",
       "1             1                     0          0           1   \n",
       "2             0                     1          1           1   \n",
       "3             1                     0          0           1   \n",
       "4             0                     1          1           0   \n",
       "\n",
       "   MultipleLines_new  InternetService_new  OnlineSecurity_new  \\\n",
       "0                  1                    0                   0   \n",
       "1                  0                    0                   2   \n",
       "2                  0                    0                   2   \n",
       "3                  1                    0                   2   \n",
       "4                  0                    1                   0   \n",
       "\n",
       "   OnlineBackup_new  TechSupport_new  \n",
       "0                 2                0  \n",
       "1                 0                0  \n",
       "2                 2                0  \n",
       "3                 0                2  \n",
       "4                 0                0  "
      ]
     },
     "execution_count": 6,
     "metadata": {},
     "output_type": "execute_result"
    }
   ],
   "source": [
    "df_model.head()"
   ]
  },
  {
   "cell_type": "code",
   "execution_count": 7,
   "metadata": {},
   "outputs": [],
   "source": [
    "# Separating the dataframe between the X (independent) and y (dependent) variables\n",
    "X = df_model.drop('Churn_new', axis=1).select_dtypes(include=[np.number])\n",
    "y = df_model['Churn_new']"
   ]
  },
  {
   "cell_type": "code",
   "execution_count": 8,
   "metadata": {},
   "outputs": [],
   "source": [
    "# Splitting the set\n",
    "X_train, X_test, y_train, y_test = train_test_split(X, y, test_size=0.25,random_state=100)"
   ]
  },
  {
   "cell_type": "code",
   "execution_count": 9,
   "metadata": {},
   "outputs": [
    {
     "data": {
      "text/html": [
       "<div>\n",
       "<style scoped>\n",
       "    .dataframe tbody tr th:only-of-type {\n",
       "        vertical-align: middle;\n",
       "    }\n",
       "\n",
       "    .dataframe tbody tr th {\n",
       "        vertical-align: top;\n",
       "    }\n",
       "\n",
       "    .dataframe thead th {\n",
       "        text-align: right;\n",
       "    }\n",
       "</style>\n",
       "<table border=\"1\" class=\"dataframe\">\n",
       "  <thead>\n",
       "    <tr style=\"text-align: right;\">\n",
       "      <th></th>\n",
       "      <th>SeniorCitizen</th>\n",
       "      <th>MonthlyCharges_Log</th>\n",
       "      <th>TotalCharges_Log</th>\n",
       "      <th>PhoneService_new</th>\n",
       "      <th>Contract_new</th>\n",
       "      <th>PaperlessBilling_new</th>\n",
       "      <th>gender_new</th>\n",
       "      <th>MultipleLines_new</th>\n",
       "      <th>InternetService_new</th>\n",
       "      <th>OnlineSecurity_new</th>\n",
       "      <th>OnlineBackup_new</th>\n",
       "      <th>TechSupport_new</th>\n",
       "    </tr>\n",
       "  </thead>\n",
       "  <tbody>\n",
       "    <tr>\n",
       "      <th>939</th>\n",
       "      <td>0</td>\n",
       "      <td>4.380150</td>\n",
       "      <td>7.601402</td>\n",
       "      <td>1</td>\n",
       "      <td>0</td>\n",
       "      <td>1</td>\n",
       "      <td>1</td>\n",
       "      <td>0</td>\n",
       "      <td>1</td>\n",
       "      <td>0</td>\n",
       "      <td>0</td>\n",
       "      <td>0</td>\n",
       "    </tr>\n",
       "    <tr>\n",
       "      <th>3723</th>\n",
       "      <td>0</td>\n",
       "      <td>2.998229</td>\n",
       "      <td>7.091451</td>\n",
       "      <td>1</td>\n",
       "      <td>2</td>\n",
       "      <td>1</td>\n",
       "      <td>1</td>\n",
       "      <td>0</td>\n",
       "      <td>2</td>\n",
       "      <td>1</td>\n",
       "      <td>1</td>\n",
       "      <td>1</td>\n",
       "    </tr>\n",
       "    <tr>\n",
       "      <th>1756</th>\n",
       "      <td>0</td>\n",
       "      <td>3.196630</td>\n",
       "      <td>7.322246</td>\n",
       "      <td>1</td>\n",
       "      <td>2</td>\n",
       "      <td>1</td>\n",
       "      <td>1</td>\n",
       "      <td>2</td>\n",
       "      <td>2</td>\n",
       "      <td>1</td>\n",
       "      <td>1</td>\n",
       "      <td>1</td>\n",
       "    </tr>\n",
       "    <tr>\n",
       "      <th>2278</th>\n",
       "      <td>0</td>\n",
       "      <td>4.270397</td>\n",
       "      <td>4.270397</td>\n",
       "      <td>1</td>\n",
       "      <td>0</td>\n",
       "      <td>1</td>\n",
       "      <td>1</td>\n",
       "      <td>0</td>\n",
       "      <td>1</td>\n",
       "      <td>0</td>\n",
       "      <td>0</td>\n",
       "      <td>0</td>\n",
       "    </tr>\n",
       "    <tr>\n",
       "      <th>1867</th>\n",
       "      <td>0</td>\n",
       "      <td>2.980619</td>\n",
       "      <td>6.689910</td>\n",
       "      <td>1</td>\n",
       "      <td>2</td>\n",
       "      <td>0</td>\n",
       "      <td>0</td>\n",
       "      <td>0</td>\n",
       "      <td>2</td>\n",
       "      <td>1</td>\n",
       "      <td>1</td>\n",
       "      <td>1</td>\n",
       "    </tr>\n",
       "    <tr>\n",
       "      <th>...</th>\n",
       "      <td>...</td>\n",
       "      <td>...</td>\n",
       "      <td>...</td>\n",
       "      <td>...</td>\n",
       "      <td>...</td>\n",
       "      <td>...</td>\n",
       "      <td>...</td>\n",
       "      <td>...</td>\n",
       "      <td>...</td>\n",
       "      <td>...</td>\n",
       "      <td>...</td>\n",
       "      <td>...</td>\n",
       "    </tr>\n",
       "    <tr>\n",
       "      <th>1843</th>\n",
       "      <td>0</td>\n",
       "      <td>2.960105</td>\n",
       "      <td>6.627380</td>\n",
       "      <td>1</td>\n",
       "      <td>1</td>\n",
       "      <td>0</td>\n",
       "      <td>0</td>\n",
       "      <td>0</td>\n",
       "      <td>2</td>\n",
       "      <td>1</td>\n",
       "      <td>1</td>\n",
       "      <td>1</td>\n",
       "    </tr>\n",
       "    <tr>\n",
       "      <th>4511</th>\n",
       "      <td>0</td>\n",
       "      <td>4.695011</td>\n",
       "      <td>8.740769</td>\n",
       "      <td>1</td>\n",
       "      <td>1</td>\n",
       "      <td>1</td>\n",
       "      <td>0</td>\n",
       "      <td>2</td>\n",
       "      <td>1</td>\n",
       "      <td>0</td>\n",
       "      <td>2</td>\n",
       "      <td>2</td>\n",
       "    </tr>\n",
       "    <tr>\n",
       "      <th>3596</th>\n",
       "      <td>0</td>\n",
       "      <td>4.191925</td>\n",
       "      <td>7.832966</td>\n",
       "      <td>1</td>\n",
       "      <td>0</td>\n",
       "      <td>1</td>\n",
       "      <td>0</td>\n",
       "      <td>2</td>\n",
       "      <td>0</td>\n",
       "      <td>2</td>\n",
       "      <td>2</td>\n",
       "      <td>0</td>\n",
       "    </tr>\n",
       "    <tr>\n",
       "      <th>6736</th>\n",
       "      <td>0</td>\n",
       "      <td>4.034241</td>\n",
       "      <td>5.460011</td>\n",
       "      <td>1</td>\n",
       "      <td>0</td>\n",
       "      <td>0</td>\n",
       "      <td>0</td>\n",
       "      <td>0</td>\n",
       "      <td>0</td>\n",
       "      <td>0</td>\n",
       "      <td>2</td>\n",
       "      <td>2</td>\n",
       "    </tr>\n",
       "    <tr>\n",
       "      <th>1501</th>\n",
       "      <td>0</td>\n",
       "      <td>3.990834</td>\n",
       "      <td>8.241308</td>\n",
       "      <td>0</td>\n",
       "      <td>2</td>\n",
       "      <td>1</td>\n",
       "      <td>1</td>\n",
       "      <td>1</td>\n",
       "      <td>0</td>\n",
       "      <td>2</td>\n",
       "      <td>0</td>\n",
       "      <td>0</td>\n",
       "    </tr>\n",
       "  </tbody>\n",
       "</table>\n",
       "<p>1758 rows × 12 columns</p>\n",
       "</div>"
      ],
      "text/plain": [
       "      SeniorCitizen  MonthlyCharges_Log  TotalCharges_Log  PhoneService_new  \\\n",
       "939               0            4.380150          7.601402                 1   \n",
       "3723              0            2.998229          7.091451                 1   \n",
       "1756              0            3.196630          7.322246                 1   \n",
       "2278              0            4.270397          4.270397                 1   \n",
       "1867              0            2.980619          6.689910                 1   \n",
       "...             ...                 ...               ...               ...   \n",
       "1843              0            2.960105          6.627380                 1   \n",
       "4511              0            4.695011          8.740769                 1   \n",
       "3596              0            4.191925          7.832966                 1   \n",
       "6736              0            4.034241          5.460011                 1   \n",
       "1501              0            3.990834          8.241308                 0   \n",
       "\n",
       "      Contract_new  PaperlessBilling_new  gender_new  MultipleLines_new  \\\n",
       "939              0                     1           1                  0   \n",
       "3723             2                     1           1                  0   \n",
       "1756             2                     1           1                  2   \n",
       "2278             0                     1           1                  0   \n",
       "1867             2                     0           0                  0   \n",
       "...            ...                   ...         ...                ...   \n",
       "1843             1                     0           0                  0   \n",
       "4511             1                     1           0                  2   \n",
       "3596             0                     1           0                  2   \n",
       "6736             0                     0           0                  0   \n",
       "1501             2                     1           1                  1   \n",
       "\n",
       "      InternetService_new  OnlineSecurity_new  OnlineBackup_new  \\\n",
       "939                     1                   0                 0   \n",
       "3723                    2                   1                 1   \n",
       "1756                    2                   1                 1   \n",
       "2278                    1                   0                 0   \n",
       "1867                    2                   1                 1   \n",
       "...                   ...                 ...               ...   \n",
       "1843                    2                   1                 1   \n",
       "4511                    1                   0                 2   \n",
       "3596                    0                   2                 2   \n",
       "6736                    0                   0                 2   \n",
       "1501                    0                   2                 0   \n",
       "\n",
       "      TechSupport_new  \n",
       "939                 0  \n",
       "3723                1  \n",
       "1756                1  \n",
       "2278                0  \n",
       "1867                1  \n",
       "...               ...  \n",
       "1843                1  \n",
       "4511                2  \n",
       "3596                0  \n",
       "6736                2  \n",
       "1501                0  \n",
       "\n",
       "[1758 rows x 12 columns]"
      ]
     },
     "execution_count": 9,
     "metadata": {},
     "output_type": "execute_result"
    }
   ],
   "source": [
    "X_test"
   ]
  },
  {
   "cell_type": "code",
   "execution_count": 32,
   "metadata": {},
   "outputs": [
    {
     "data": {
      "text/plain": [
       "939     0\n",
       "3723    0\n",
       "1756    0\n",
       "2278    1\n",
       "1867    0\n",
       "       ..\n",
       "1843    0\n",
       "4511    0\n",
       "3596    0\n",
       "6736    1\n",
       "1501    0\n",
       "Name: Churn_new, Length: 1758, dtype: int64"
      ]
     },
     "execution_count": 32,
     "metadata": {},
     "output_type": "execute_result"
    }
   ],
   "source": [
    "y_test"
   ]
  },
  {
   "cell_type": "code",
   "execution_count": 11,
   "metadata": {},
   "outputs": [
    {
     "name": "stdout",
     "output_type": "stream",
     "text": [
      "(7031, 13)\n",
      "(5273, 12)\n",
      "(1758, 12)\n",
      "(5273,)\n",
      "(1758,)\n"
     ]
    }
   ],
   "source": [
    "# Printing the X_train \n",
    "print(df_model.shape)\n",
    "\n",
    "print(X_train.shape)\n",
    "print(X_test.shape)\n",
    "\n",
    "print(y_train.shape)\n",
    "print(y_test.shape)"
   ]
  },
  {
   "attachments": {},
   "cell_type": "markdown",
   "metadata": {},
   "source": [
    "# Scaling X"
   ]
  },
  {
   "cell_type": "code",
   "execution_count": 12,
   "metadata": {},
   "outputs": [
    {
     "data": {
      "text/plain": [
       "array([[-0.4393022 ,  0.3869026 , -1.71045932, ..., -0.92164876,\n",
       "        -1.03691856, -0.93164536],\n",
       "       [-0.4393022 ,  0.61090839, -0.740343  , ...,  1.40419661,\n",
       "        -1.03691856, -0.93164536],\n",
       "       [-0.4393022 ,  1.08791135,  1.16538985, ...,  1.40419661,\n",
       "        -1.03691856, -0.93164536],\n",
       "       ...,\n",
       "       [-0.4393022 ,  0.17251542,  0.69610248, ...,  1.40419661,\n",
       "        -1.03691856,  1.38724347],\n",
       "       [-0.4393022 ,  1.00040292,  1.211428  , ..., -0.92164876,\n",
       "         1.23512448, -0.93164536],\n",
       "       [-0.4393022 , -1.71828849, -0.26807539, ...,  0.24127393,\n",
       "         0.09910296,  0.22779906]])"
      ]
     },
     "execution_count": 12,
     "metadata": {},
     "output_type": "execute_result"
    }
   ],
   "source": [
    "scaler = StandardScaler()\n",
    "X_train_scaled = scaler.fit_transform(X_train)\n",
    "X_train_scaled"
   ]
  },
  {
   "attachments": {},
   "cell_type": "markdown",
   "metadata": {},
   "source": [
    "# PCA for Feature Selection"
   ]
  },
  {
   "cell_type": "code",
   "execution_count": 13,
   "metadata": {},
   "outputs": [
    {
     "data": {
      "text/plain": [
       "PCA()"
      ]
     },
     "execution_count": 13,
     "metadata": {},
     "output_type": "execute_result"
    }
   ],
   "source": [
    "# Performing PCA\n",
    "\n",
    "pca = PCA()\n",
    "pca.fit(X_train_scaled)\n",
    "#X_train_pca =pca.transform(X_train_scaled)"
   ]
  },
  {
   "cell_type": "code",
   "execution_count": 14,
   "metadata": {},
   "outputs": [
    {
     "data": {
      "image/png": "[encoded data removed]",
      "text/plain": [
       "<Figure size 640x480 with 1 Axes>"
      ]
     },
     "metadata": {},
     "output_type": "display_data"
    }
   ],
   "source": [
    "#creating a pca object with n componenets\n",
    "pca = PCA(n_components=8)\n",
    "\n",
    "#fitting and transforming data using PCA\n",
    "pca.fit(X_train_scaled)\n",
    "components = pca.components_\n",
    "\n",
    "fig, ax = plt.subplots(1,1)\n",
    "ax.set_title(\"PCA\")\n",
    "ax.scatter(components[0], components[1])\n",
    "\n",
    "for i, txt in enumerate(X.columns.to_list()):\n",
    "    ax.annotate(txt, (components[0][i], components[1][i]), xytext=(7,0), textcoords='offset points')"
   ]
  },
  {
   "cell_type": "code",
   "execution_count": 15,
   "metadata": {},
   "outputs": [
    {
     "name": "stdout",
     "output_type": "stream",
     "text": [
      "85.33265353084617\n"
     ]
    }
   ],
   "source": [
    "print(sum(pca.explained_variance_ratio_ *100))"
   ]
  },
  {
   "cell_type": "code",
   "execution_count": 16,
   "metadata": {},
   "outputs": [
    {
     "data": {
      "text/plain": [
       "array([20.54638777, 18.02108712, 11.27743958,  8.35062822,  7.69431719,\n",
       "        6.77353913,  6.43387198,  6.23538254])"
      ]
     },
     "execution_count": 16,
     "metadata": {},
     "output_type": "execute_result"
    }
   ],
   "source": [
    "pca.explained_variance_ratio_ *100"
   ]
  },
  {
   "cell_type": "code",
   "execution_count": 17,
   "metadata": {},
   "outputs": [
    {
     "data": {
      "text/plain": [
       "Text(0.5, 1.0, 'Explained Variance of PCA features')"
      ]
     },
     "execution_count": 17,
     "metadata": {},
     "output_type": "execute_result"
    },
    {
     "data": {
      "image/png": "[encoded data removed]",
      "text/plain": [
       "<Figure size 640x480 with 1 Axes>"
      ]
     },
     "metadata": {},
     "output_type": "display_data"
    }
   ],
   "source": [
    "plt.plot(np.cumsum(pca.explained_variance_ratio_))\n",
    "plt.xlabel('Number of components')\n",
    "plt.ylabel('Explained Variance')\n",
    "plt.title('Explained Variance of PCA features')"
   ]
  },
  {
   "attachments": {},
   "cell_type": "markdown",
   "metadata": {},
   "source": [
    "# Elbow Curve for Feature Selection"
   ]
  },
  {
   "cell_type": "code",
   "execution_count": 18,
   "metadata": {},
   "outputs": [],
   "source": [
    "from sklearn.cluster import KMeans\n",
    "from scipy.spatial.distance import cdist\n",
    "\n",
    "\n",
    "distortions = []\n",
    "inertias = []\n",
    "mapping1 = {}\n",
    "mapping2 = {}\n",
    "K = range(1, 10)\n",
    "  \n",
    "for k in K:\n",
    "    # Building and fitting the model\n",
    "    kmeanModel = KMeans(n_clusters=k).fit(X)\n",
    "    kmeanModel.fit(X)\n",
    "  \n",
    "    distortions.append(sum(np.min(cdist(X, kmeanModel.cluster_centers_), axis=1)) / X.shape[0])\n",
    "    inertias.append(kmeanModel.inertia_)\n",
    "  \n",
    "    mapping1[k] = sum(np.min(cdist(X, kmeanModel.cluster_centers_), axis=1)) / X.shape[0]\n",
    "    mapping2[k] = kmeanModel.inertia_"
   ]
  },
  {
   "cell_type": "code",
   "execution_count": 19,
   "metadata": {},
   "outputs": [
    {
     "name": "stdout",
     "output_type": "stream",
     "text": [
      "1 : 2.754985222585652\n",
      "2 : 2.3694265260289145\n",
      "3 : 2.201652745033008\n",
      "4 : 2.0295369528998304\n",
      "5 : 1.9346533121930596\n",
      "6 : 1.862874198548618\n",
      "7 : 1.795752023888442\n",
      "8 : 1.7377807515790538\n",
      "9 : 1.6883207972969263\n"
     ]
    }
   ],
   "source": [
    "for key, val in mapping1.items():\n",
    "    print(f'{key} : {val}')"
   ]
  },
  {
   "cell_type": "code",
   "execution_count": 20,
   "metadata": {},
   "outputs": [
    {
     "data": {
      "image/png": "[encoded data removed]",
      "text/plain": [
       "<Figure size 640x480 with 1 Axes>"
      ]
     },
     "metadata": {},
     "output_type": "display_data"
    }
   ],
   "source": [
    "plt.plot(K, distortions, 'bx-')\n",
    "plt.xlabel('Values of K')\n",
    "plt.ylabel('Distortion')\n",
    "plt.title('The Elbow Method using Distortion')\n",
    "plt.show()"
   ]
  },
  {
   "attachments": {},
   "cell_type": "markdown",
   "metadata": {},
   "source": [
    "# Modelling"
   ]
  },
  {
   "cell_type": "code",
   "execution_count": 21,
   "metadata": {},
   "outputs": [],
   "source": [
    "from sklearn.svm import SVC\n",
    "from sklearn.metrics import confusion_matrix, classification_report"
   ]
  },
  {
   "attachments": {},
   "cell_type": "markdown",
   "metadata": {},
   "source": [
    "## Logistic Regression"
   ]
  },
  {
   "cell_type": "code",
   "execution_count": 22,
   "metadata": {},
   "outputs": [
    {
     "name": "stdout",
     "output_type": "stream",
     "text": [
      "Accuracy:  0.7895335608646189\n",
      "Precision:  0.6314432989690721\n",
      "Recall:  0.5190677966101694\n",
      "F1-score:  0.569767441860465\n",
      "ROC-AUC score:  0.7039351424730474\n",
      "Confusion Matrix:\n",
      " [[1143  143]\n",
      " [ 227  245]]\n"
     ]
    }
   ],
   "source": [
    "logModel = LogisticRegression(max_iter=1000, random_state=100)\n",
    "logModel.fit(X_train, y_train)\n",
    "y_pred_logModel=logModel.predict(X_test)\n",
    "y_pred_logModel\n",
    "\n",
    "# Printing the evaluation metrics\n",
    "print(\"Accuracy: \", accuracy_score(y_test, y_pred_logModel))\n",
    "print(\"Precision: \", precision_score(y_test, y_pred_logModel))\n",
    "print(\"Recall: \", recall_score(y_test, y_pred_logModel))\n",
    "print(\"F1-score: \", f1_score(y_test, y_pred_logModel))\n",
    "print(\"ROC-AUC score: \", roc_auc_score(y_test, y_pred_logModel))\n",
    "print(\"Confusion Matrix:\\n\", confusion_matrix(y_test, y_pred_logModel))"
   ]
  },
  {
   "attachments": {},
   "cell_type": "markdown",
   "metadata": {},
   "source": [
    "## Random Forest Classifier"
   ]
  },
  {
   "cell_type": "code",
   "execution_count": 23,
   "metadata": {},
   "outputs": [
    {
     "name": "stdout",
     "output_type": "stream",
     "text": [
      "Accuracy:  0.7787258248009101\n",
      "Precision:  0.6055979643765903\n",
      "Recall:  0.5042372881355932\n",
      "F1-score:  0.5502890173410404\n",
      "ROC-AUC score:  0.6918542583757282\n",
      "Confusion Matrix:\n",
      " [[1131  155]\n",
      " [ 234  238]]\n"
     ]
    }
   ],
   "source": [
    "rfcModel = RandomForestClassifier(n_estimators=1000, random_state=100)\n",
    "rfcModel.fit(X_train, y_train)\n",
    "y_pred_rfc=rfcModel.predict(X_test)\n",
    "y_pred_rfc\n",
    "\n",
    "\n",
    "# Printing the evaluation metrics\n",
    "print(\"Accuracy: \", accuracy_score(y_test, y_pred_rfc))\n",
    "print(\"Precision: \", precision_score(y_test, y_pred_rfc))\n",
    "print(\"Recall: \", recall_score(y_test, y_pred_rfc))\n",
    "print(\"F1-score: \", f1_score(y_test, y_pred_rfc))\n",
    "print(\"ROC-AUC score: \", roc_auc_score(y_test, y_pred_rfc))\n",
    "print(\"Confusion Matrix:\\n\", confusion_matrix(y_test, y_pred_rfc))"
   ]
  },
  {
   "attachments": {},
   "cell_type": "markdown",
   "metadata": {},
   "source": [
    "## Decision Tree"
   ]
  },
  {
   "cell_type": "code",
   "execution_count": 24,
   "metadata": {},
   "outputs": [
    {
     "name": "stdout",
     "output_type": "stream",
     "text": [
      "Accuracy:  0.7349260523321957\n",
      "Precision:  0.5063025210084033\n",
      "Recall:  0.510593220338983\n",
      "F1-score:  0.5084388185654007\n",
      "ROC-AUC score:  0.6639280254105492\n",
      "Confusion Matrix:\n",
      " [[1051  235]\n",
      " [ 231  241]]\n"
     ]
    }
   ],
   "source": [
    "dtcModel = DecisionTreeClassifier()\n",
    "dtcModel.fit(X_train,y_train)\n",
    "y_pred_dtcModel=dtcModel.predict(X_test)\n",
    "y_pred_dtcModel\n",
    "\n",
    "# Printing the evaluation metrics\n",
    "print(\"Accuracy: \", accuracy_score(y_test, y_pred_dtcModel))\n",
    "print(\"Precision: \", precision_score(y_test, y_pred_dtcModel))\n",
    "print(\"Recall: \", recall_score(y_test, y_pred_dtcModel))\n",
    "print(\"F1-score: \", f1_score(y_test, y_pred_dtcModel))\n",
    "print(\"ROC-AUC score: \", roc_auc_score(y_test, y_pred_dtcModel))\n",
    "print(\"Confusion Matrix:\\n\", confusion_matrix(y_test, y_pred_dtcModel))\n"
   ]
  },
  {
   "attachments": {},
   "cell_type": "markdown",
   "metadata": {},
   "source": [
    "### Analysis Modelling\n",
    "\n",
    "Based on the results above Logistic Model is performing the best overall. We have 2 options, we can take only the logistic model to do hyperparameter tuning or test out all the models. We will try grid search on all the models to see the results. "
   ]
  },
  {
   "attachments": {},
   "cell_type": "markdown",
   "metadata": {},
   "source": [
    "# Hyper Parameter Tuning using Grid Search\n",
    "(Grid Search to imporve the results)\n",
    "In machine learning, hyperparameter tuning is the process of optimizing a model’s hyperparameters to improve its performance on a given dataset.it is important to tune the hyperparameters so that the model can learn and generalize well on unseen data. Grid Search is one of the methods to hypertune the parameters. "
   ]
  },
  {
   "cell_type": "code",
   "execution_count": 25,
   "metadata": {},
   "outputs": [],
   "source": [
    "from sklearn.model_selection import GridSearchCV\n",
    "from sklearn.svm import SVR\n",
    "from sklearn.model_selection import GridSearchCV, cross_validate\n",
    "import math\n"
   ]
  },
  {
   "attachments": {},
   "cell_type": "markdown",
   "metadata": {},
   "source": [
    "## Method 1 - Logistic Regression (Grid Search)"
   ]
  },
  {
   "cell_type": "code",
   "execution_count": 26,
   "metadata": {},
   "outputs": [
    {
     "name": "stdout",
     "output_type": "stream",
     "text": [
      "Best parameters:  {'C': 0.1, 'penalty': 'l1', 'solver': 'liblinear'}\n",
      "Best score:  0.808835670027069\n",
      "Accuracy Logistic Model:  0.7872582480091013\n",
      "Precision Logistic Model:  0.6310160427807486\n",
      "Recall Logistic Model:  0.5\n",
      "F1-score Logistic Model:  0.557919621749409\n"
     ]
    }
   ],
   "source": [
    "# Trying the parameter grid search for the baseline_model_1 (Logistic Regression model)\n",
    "param_grid_lr = {\n",
    "    'penalty': ['l1', 'l2'],\n",
    "    'C': [0.1, 1, 10, 100],\n",
    "    'solver': ['liblinear', 'saga']\n",
    "}\n",
    "\n",
    "# Initializing the Logistic Regression model\n",
    "#lr = LogisticRegression(max_iter=1000, random_state=100)\n",
    "\n",
    "# Creating a GridSearchCV object and fitting it to the training data (Using the logModel previously created)\n",
    "grid_search_1 = GridSearchCV(estimator=logModel, param_grid=param_grid_lr, cv=5)\n",
    "grid_search_1.fit(X_train, y_train)\n",
    "\n",
    "# Printting the best parameters and best score\n",
    "print(\"Best parameters: \", grid_search_1.best_params_)\n",
    "print(\"Best score: \", grid_search_1.best_score_)\n",
    "\n",
    "# Predictting the labels of the testing data using the best estimator\n",
    "y_pred_logModel = grid_search_1.best_estimator_.predict(X_test)\n",
    "\n",
    "# Evaluating the model\n",
    "accuracy_logModel = accuracy_score(y_test, y_pred_logModel)\n",
    "precision_logModel = precision_score(y_test, y_pred_logModel)\n",
    "recall_logModel = recall_score(y_test, y_pred_logModel)\n",
    "f1_logModel = f1_score(y_test, y_pred_logModel)\n",
    "print(\"Accuracy Logistic Model: \", accuracy_logModel)\n",
    "print(\"Precision Logistic Model: \", precision_logModel)\n",
    "print(\"Recall Logistic Model: \", recall_logModel)\n",
    "print(\"F1-score Logistic Model: \", f1_logModel)"
   ]
  },
  {
   "attachments": {},
   "cell_type": "markdown",
   "metadata": {},
   "source": [
    "## Method 2 - Random Forest Classifier (Grid Search)"
   ]
  },
  {
   "cell_type": "code",
   "execution_count": 27,
   "metadata": {},
   "outputs": [
    {
     "name": "stdout",
     "output_type": "stream",
     "text": [
      "Best parameters:  {'max_depth': 10, 'min_samples_leaf': 4, 'min_samples_split': 2, 'n_estimators': 100}\n",
      "Best score:  0.8075109940016368\n",
      "Accuracy Random Forest Model:  0.7952218430034129\n",
      "Precision Random Forest Model:  0.6505376344086021\n",
      "Recall Random Forest Model:  0.5127118644067796\n",
      "F1-score Random Forest Model:  0.5734597156398104\n"
     ]
    }
   ],
   "source": [
    "# Trying the parameter grid search for the baseline_model_2 (Random Forest Classifier model)\n",
    "param_grid_rfc = {\n",
    "    'n_estimators': [50, 100, 200],\n",
    "    'max_depth': [5, 10, 15],\n",
    "    'min_samples_split': [2, 5, 10],\n",
    "    'min_samples_leaf': [1, 2, 4]\n",
    "}\n",
    "\n",
    "# Initializing the Random Forest Classifier model\n",
    "#rf = RandomForestClassifier(n_estimators=1000, random_state=100)\n",
    "\n",
    "# Creating a GridSearchCV object and fitting it to the training data (Using the model and it's parameters previously created)\n",
    "grid_search_2 = GridSearchCV(estimator=rfcModel, param_grid=param_grid_rfc, cv=5)\n",
    "grid_search_2.fit(X_train, y_train)\n",
    "\n",
    "# Printting the best parameters and best score\n",
    "print(\"Best parameters: \", grid_search_2.best_params_)\n",
    "print(\"Best score: \", grid_search_2.best_score_)\n",
    "\n",
    "# Predictting the labels of the testing data using the best estimator\n",
    "y_pred_rfc = grid_search_2.best_estimator_.predict(X_test)\n",
    "\n",
    "# Evaluating the model\n",
    "accuracy_rfc = accuracy_score(y_test, y_pred_rfc)\n",
    "precision_rfc = precision_score(y_test, y_pred_rfc)\n",
    "recall_rfc = recall_score(y_test, y_pred_rfc)\n",
    "f1_rfc = f1_score(y_test, y_pred_rfc)\n",
    "print(\"Accuracy Random Forest Model: \", accuracy_rfc)\n",
    "print(\"Precision Random Forest Model: \", precision_rfc)\n",
    "print(\"Recall Random Forest Model: \", recall_rfc)\n",
    "print(\"F1-score Random Forest Model: \", f1_rfc)"
   ]
  },
  {
   "attachments": {},
   "cell_type": "markdown",
   "metadata": {},
   "source": [
    "## Method 3 - Decision Tree (Grid Search)"
   ]
  },
  {
   "cell_type": "code",
   "execution_count": 28,
   "metadata": {},
   "outputs": [
    {
     "name": "stdout",
     "output_type": "stream",
     "text": [
      "Fitting 3 folds for each of 9 candidates, totalling 27 fits\n",
      "Best parameters:  {'max_depth': 3, 'min_samples_leaf': 1}\n",
      "Best score:  0.7688230770509165\n",
      "Accuracy Decision Tree Model:  0.754835039817975\n",
      "Precision Decision Tree Model:  0.6694214876033058\n",
      "Recall Decision Tree Model:  0.1716101694915254\n",
      "F1-score Decision Tree Model:  0.27318718381112983\n"
     ]
    }
   ],
   "source": [
    "# Trying the parameter grid search for the baseline_model_2 (Random Forest Classifier model)\n",
    "param_grid_dtm = {\n",
    "    'min_samples_leaf': [1, 2, 3],\n",
    "    'max_depth': [1, 2, 3]}\n",
    "\n",
    "\n",
    "# Creating a GridSearchCV object and fitting it to the training data (Using the model and it's parameters previously created)\n",
    "grid_search_3 = GridSearchCV(DecisionTreeClassifier(random_state=42), param_grid_dtm, verbose=1, cv=3)\n",
    "grid_search_3.fit(X_train, y_train)\n",
    "\n",
    "# Printting the best parameters and best score\n",
    "print(\"Best parameters: \", grid_search_3.best_params_)\n",
    "print(\"Best score: \", grid_search_3.best_score_)\n",
    "\n",
    "# Predictting the labels of the testing data using the best estimator\n",
    "y_pred_dtm = grid_search_3.best_estimator_.predict(X_test)\n",
    "\n",
    "# Evaluating the model\n",
    "accuracy_dtm = accuracy_score(y_test, y_pred_dtm)\n",
    "precision_dtm = precision_score(y_test, y_pred_dtm)\n",
    "recall_dtm = recall_score(y_test, y_pred_dtm)\n",
    "f1_dtm = f1_score(y_test, y_pred_dtm)\n",
    "print(\"Accuracy Decision Tree Model: \", accuracy_dtm)\n",
    "print(\"Precision Decision Tree Model: \", precision_dtm)\n",
    "print(\"Recall Decision Tree Model: \", recall_dtm)\n",
    "print(\"F1-score Decision Tree Model: \", f1_dtm)"
   ]
  },
  {
   "attachments": {},
   "cell_type": "markdown",
   "metadata": {},
   "source": [
    "### Analysis - Hyper Parameter Tuning (Grid Search)\n",
    "The Grid Search imporved the results of all the models. We will continue to use the Logistic Model as it has the highest Best Score of 80.88%. We will save this model to proceed further."
   ]
  },
  {
   "cell_type": "code",
   "execution_count": 29,
   "metadata": {},
   "outputs": [],
   "source": [
    "import pickle\n",
    "\n",
    "pickle.dump(grid_search_1, open('Model_13F.pkl', 'wb'))"
   ]
  },
  {
   "cell_type": "code",
   "execution_count": 30,
   "metadata": {},
   "outputs": [],
   "source": [
    "load_model = pickle.load(open('Model_13F.pkl', 'rb'))"
   ]
  },
  {
   "cell_type": "code",
   "execution_count": 31,
   "metadata": {},
   "outputs": [
    {
     "data": {
      "text/plain": [
       "0.7872582480091013"
      ]
     },
     "execution_count": 31,
     "metadata": {},
     "output_type": "execute_result"
    }
   ],
   "source": [
    "load_model.score(X_test, y_test)"
   ]
  },
  {
   "cell_type": "code",
   "execution_count": 34,
   "metadata": {},
   "outputs": [
    {
     "data": {
      "text/html": [
       "<div>\n",
       "<style scoped>\n",
       "    .dataframe tbody tr th:only-of-type {\n",
       "        vertical-align: middle;\n",
       "    }\n",
       "\n",
       "    .dataframe tbody tr th {\n",
       "        vertical-align: top;\n",
       "    }\n",
       "\n",
       "    .dataframe thead th {\n",
       "        text-align: right;\n",
       "    }\n",
       "</style>\n",
       "<table border=\"1\" class=\"dataframe\">\n",
       "  <thead>\n",
       "    <tr style=\"text-align: right;\">\n",
       "      <th></th>\n",
       "      <th>SeniorCitizen</th>\n",
       "      <th>MonthlyCharges_Log</th>\n",
       "      <th>TotalCharges_Log</th>\n",
       "      <th>PhoneService_new</th>\n",
       "      <th>Contract_new</th>\n",
       "      <th>PaperlessBilling_new</th>\n",
       "      <th>gender_new</th>\n",
       "      <th>MultipleLines_new</th>\n",
       "      <th>InternetService_new</th>\n",
       "      <th>OnlineSecurity_new</th>\n",
       "      <th>OnlineBackup_new</th>\n",
       "      <th>TechSupport_new</th>\n",
       "    </tr>\n",
       "  </thead>\n",
       "  <tbody>\n",
       "    <tr>\n",
       "      <th>939</th>\n",
       "      <td>0</td>\n",
       "      <td>4.380150</td>\n",
       "      <td>7.601402</td>\n",
       "      <td>1</td>\n",
       "      <td>0</td>\n",
       "      <td>1</td>\n",
       "      <td>1</td>\n",
       "      <td>0</td>\n",
       "      <td>1</td>\n",
       "      <td>0</td>\n",
       "      <td>0</td>\n",
       "      <td>0</td>\n",
       "    </tr>\n",
       "    <tr>\n",
       "      <th>3723</th>\n",
       "      <td>0</td>\n",
       "      <td>2.998229</td>\n",
       "      <td>7.091451</td>\n",
       "      <td>1</td>\n",
       "      <td>2</td>\n",
       "      <td>1</td>\n",
       "      <td>1</td>\n",
       "      <td>0</td>\n",
       "      <td>2</td>\n",
       "      <td>1</td>\n",
       "      <td>1</td>\n",
       "      <td>1</td>\n",
       "    </tr>\n",
       "    <tr>\n",
       "      <th>1756</th>\n",
       "      <td>0</td>\n",
       "      <td>3.196630</td>\n",
       "      <td>7.322246</td>\n",
       "      <td>1</td>\n",
       "      <td>2</td>\n",
       "      <td>1</td>\n",
       "      <td>1</td>\n",
       "      <td>2</td>\n",
       "      <td>2</td>\n",
       "      <td>1</td>\n",
       "      <td>1</td>\n",
       "      <td>1</td>\n",
       "    </tr>\n",
       "    <tr>\n",
       "      <th>2278</th>\n",
       "      <td>0</td>\n",
       "      <td>4.270397</td>\n",
       "      <td>4.270397</td>\n",
       "      <td>1</td>\n",
       "      <td>0</td>\n",
       "      <td>1</td>\n",
       "      <td>1</td>\n",
       "      <td>0</td>\n",
       "      <td>1</td>\n",
       "      <td>0</td>\n",
       "      <td>0</td>\n",
       "      <td>0</td>\n",
       "    </tr>\n",
       "    <tr>\n",
       "      <th>1867</th>\n",
       "      <td>0</td>\n",
       "      <td>2.980619</td>\n",
       "      <td>6.689910</td>\n",
       "      <td>1</td>\n",
       "      <td>2</td>\n",
       "      <td>0</td>\n",
       "      <td>0</td>\n",
       "      <td>0</td>\n",
       "      <td>2</td>\n",
       "      <td>1</td>\n",
       "      <td>1</td>\n",
       "      <td>1</td>\n",
       "    </tr>\n",
       "    <tr>\n",
       "      <th>...</th>\n",
       "      <td>...</td>\n",
       "      <td>...</td>\n",
       "      <td>...</td>\n",
       "      <td>...</td>\n",
       "      <td>...</td>\n",
       "      <td>...</td>\n",
       "      <td>...</td>\n",
       "      <td>...</td>\n",
       "      <td>...</td>\n",
       "      <td>...</td>\n",
       "      <td>...</td>\n",
       "      <td>...</td>\n",
       "    </tr>\n",
       "    <tr>\n",
       "      <th>1843</th>\n",
       "      <td>0</td>\n",
       "      <td>2.960105</td>\n",
       "      <td>6.627380</td>\n",
       "      <td>1</td>\n",
       "      <td>1</td>\n",
       "      <td>0</td>\n",
       "      <td>0</td>\n",
       "      <td>0</td>\n",
       "      <td>2</td>\n",
       "      <td>1</td>\n",
       "      <td>1</td>\n",
       "      <td>1</td>\n",
       "    </tr>\n",
       "    <tr>\n",
       "      <th>4511</th>\n",
       "      <td>0</td>\n",
       "      <td>4.695011</td>\n",
       "      <td>8.740769</td>\n",
       "      <td>1</td>\n",
       "      <td>1</td>\n",
       "      <td>1</td>\n",
       "      <td>0</td>\n",
       "      <td>2</td>\n",
       "      <td>1</td>\n",
       "      <td>0</td>\n",
       "      <td>2</td>\n",
       "      <td>2</td>\n",
       "    </tr>\n",
       "    <tr>\n",
       "      <th>3596</th>\n",
       "      <td>0</td>\n",
       "      <td>4.191925</td>\n",
       "      <td>7.832966</td>\n",
       "      <td>1</td>\n",
       "      <td>0</td>\n",
       "      <td>1</td>\n",
       "      <td>0</td>\n",
       "      <td>2</td>\n",
       "      <td>0</td>\n",
       "      <td>2</td>\n",
       "      <td>2</td>\n",
       "      <td>0</td>\n",
       "    </tr>\n",
       "    <tr>\n",
       "      <th>6736</th>\n",
       "      <td>0</td>\n",
       "      <td>4.034241</td>\n",
       "      <td>5.460011</td>\n",
       "      <td>1</td>\n",
       "      <td>0</td>\n",
       "      <td>0</td>\n",
       "      <td>0</td>\n",
       "      <td>0</td>\n",
       "      <td>0</td>\n",
       "      <td>0</td>\n",
       "      <td>2</td>\n",
       "      <td>2</td>\n",
       "    </tr>\n",
       "    <tr>\n",
       "      <th>1501</th>\n",
       "      <td>0</td>\n",
       "      <td>3.990834</td>\n",
       "      <td>8.241308</td>\n",
       "      <td>0</td>\n",
       "      <td>2</td>\n",
       "      <td>1</td>\n",
       "      <td>1</td>\n",
       "      <td>1</td>\n",
       "      <td>0</td>\n",
       "      <td>2</td>\n",
       "      <td>0</td>\n",
       "      <td>0</td>\n",
       "    </tr>\n",
       "  </tbody>\n",
       "</table>\n",
       "<p>1758 rows × 12 columns</p>\n",
       "</div>"
      ],
      "text/plain": [
       "      SeniorCitizen  MonthlyCharges_Log  TotalCharges_Log  PhoneService_new  \\\n",
       "939               0            4.380150          7.601402                 1   \n",
       "3723              0            2.998229          7.091451                 1   \n",
       "1756              0            3.196630          7.322246                 1   \n",
       "2278              0            4.270397          4.270397                 1   \n",
       "1867              0            2.980619          6.689910                 1   \n",
       "...             ...                 ...               ...               ...   \n",
       "1843              0            2.960105          6.627380                 1   \n",
       "4511              0            4.695011          8.740769                 1   \n",
       "3596              0            4.191925          7.832966                 1   \n",
       "6736              0            4.034241          5.460011                 1   \n",
       "1501              0            3.990834          8.241308                 0   \n",
       "\n",
       "      Contract_new  PaperlessBilling_new  gender_new  MultipleLines_new  \\\n",
       "939              0                     1           1                  0   \n",
       "3723             2                     1           1                  0   \n",
       "1756             2                     1           1                  2   \n",
       "2278             0                     1           1                  0   \n",
       "1867             2                     0           0                  0   \n",
       "...            ...                   ...         ...                ...   \n",
       "1843             1                     0           0                  0   \n",
       "4511             1                     1           0                  2   \n",
       "3596             0                     1           0                  2   \n",
       "6736             0                     0           0                  0   \n",
       "1501             2                     1           1                  1   \n",
       "\n",
       "      InternetService_new  OnlineSecurity_new  OnlineBackup_new  \\\n",
       "939                     1                   0                 0   \n",
       "3723                    2                   1                 1   \n",
       "1756                    2                   1                 1   \n",
       "2278                    1                   0                 0   \n",
       "1867                    2                   1                 1   \n",
       "...                   ...                 ...               ...   \n",
       "1843                    2                   1                 1   \n",
       "4511                    1                   0                 2   \n",
       "3596                    0                   2                 2   \n",
       "6736                    0                   0                 2   \n",
       "1501                    0                   2                 0   \n",
       "\n",
       "      TechSupport_new  \n",
       "939                 0  \n",
       "3723                1  \n",
       "1756                1  \n",
       "2278                0  \n",
       "1867                1  \n",
       "...               ...  \n",
       "1843                1  \n",
       "4511                2  \n",
       "3596                0  \n",
       "6736                2  \n",
       "1501                0  \n",
       "\n",
       "[1758 rows x 12 columns]"
      ]
     },
     "execution_count": 34,
     "metadata": {},
     "output_type": "execute_result"
    }
   ],
   "source": [
    "X_test"
   ]
  },
  {
   "cell_type": "code",
   "execution_count": 35,
   "metadata": {},
   "outputs": [
    {
     "data": {
      "text/plain": [
       "939     0\n",
       "3723    0\n",
       "1756    0\n",
       "2278    1\n",
       "1867    0\n",
       "       ..\n",
       "1843    0\n",
       "4511    0\n",
       "3596    0\n",
       "6736    1\n",
       "1501    0\n",
       "Name: Churn_new, Length: 1758, dtype: int64"
      ]
     },
     "execution_count": 35,
     "metadata": {},
     "output_type": "execute_result"
    }
   ],
   "source": [
    "y_test"
   ]
  }
 ],
 "metadata": {
  "kernelspec": {
   "display_name": "base",
   "language": "python",
   "name": "python3"
  },
  "language_info": {
   "codemirror_mode": {
    "name": "ipython",
    "version": 3
   },
   "file_extension": ".py",
   "mimetype": "text/x-python",
   "name": "python",
   "nbconvert_exporter": "python",
   "pygments_lexer": "ipython3",
   "version": "3.9.13"
  },
  "orig_nbformat": 4
 },
 "nbformat": 4,
 "nbformat_minor": 2
}
