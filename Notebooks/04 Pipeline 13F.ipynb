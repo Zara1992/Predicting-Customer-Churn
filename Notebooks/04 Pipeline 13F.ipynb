{
 "cells": [
  {
   "cell_type": "code",
   "execution_count": 1,
   "metadata": {},
   "outputs": [],
   "source": [
    "import pandas as pd\n",
    "import numpy as np\n",
    "\n",
    "from sklearn.pipeline import Pipeline, FeatureUnion\n",
    "from sklearn.preprocessing import StandardScaler\n",
    "from sklearn.decomposition import PCA\n",
    "from sklearn.feature_selection import SelectKBest\n",
    "import pickle"
   ]
  },
  {
   "attachments": {},
   "cell_type": "markdown",
   "metadata": {},
   "source": [
    "Picking up model that is featured engineered already"
   ]
  },
  {
   "cell_type": "code",
   "execution_count": 2,
   "metadata": {},
   "outputs": [],
   "source": [
    "df = pd.read_csv(r\"C:\\Users\\zarah\\Desktop\\Lighthouse Labs\\Final Project\\Churn Project Files\\DataFiles\\df_model.csv\") \n"
   ]
  },
  {
   "cell_type": "code",
   "execution_count": 3,
   "metadata": {},
   "outputs": [],
   "source": [
    "df.drop(['PaymentMethod_new', 'Partner_new', 'Dependents_new','DeviceProtection_new','StreamingTV_new', 'StreamingMovies_new','tenureCatLabel_new'], axis=1, inplace=True)"
   ]
  },
  {
   "cell_type": "code",
   "execution_count": 4,
   "metadata": {},
   "outputs": [
    {
     "data": {
      "text/html": [
       "<div>\n",
       "<style scoped>\n",
       "    .dataframe tbody tr th:only-of-type {\n",
       "        vertical-align: middle;\n",
       "    }\n",
       "\n",
       "    .dataframe tbody tr th {\n",
       "        vertical-align: top;\n",
       "    }\n",
       "\n",
       "    .dataframe thead th {\n",
       "        text-align: right;\n",
       "    }\n",
       "</style>\n",
       "<table border=\"1\" class=\"dataframe\">\n",
       "  <thead>\n",
       "    <tr style=\"text-align: right;\">\n",
       "      <th></th>\n",
       "      <th>SeniorCitizen</th>\n",
       "      <th>MonthlyCharges_Log</th>\n",
       "      <th>TotalCharges_Log</th>\n",
       "      <th>PhoneService_new</th>\n",
       "      <th>Contract_new</th>\n",
       "      <th>PaperlessBilling_new</th>\n",
       "      <th>Churn_new</th>\n",
       "      <th>gender_new</th>\n",
       "      <th>MultipleLines_new</th>\n",
       "      <th>InternetService_new</th>\n",
       "      <th>OnlineSecurity_new</th>\n",
       "      <th>OnlineBackup_new</th>\n",
       "      <th>TechSupport_new</th>\n",
       "    </tr>\n",
       "  </thead>\n",
       "  <tbody>\n",
       "    <tr>\n",
       "      <th>0</th>\n",
       "      <td>0</td>\n",
       "      <td>3.396185</td>\n",
       "      <td>3.396185</td>\n",
       "      <td>0</td>\n",
       "      <td>0</td>\n",
       "      <td>1</td>\n",
       "      <td>0</td>\n",
       "      <td>0</td>\n",
       "      <td>1</td>\n",
       "      <td>0</td>\n",
       "      <td>0</td>\n",
       "      <td>2</td>\n",
       "      <td>0</td>\n",
       "    </tr>\n",
       "    <tr>\n",
       "      <th>1</th>\n",
       "      <td>0</td>\n",
       "      <td>4.042174</td>\n",
       "      <td>7.544068</td>\n",
       "      <td>1</td>\n",
       "      <td>1</td>\n",
       "      <td>0</td>\n",
       "      <td>0</td>\n",
       "      <td>1</td>\n",
       "      <td>0</td>\n",
       "      <td>0</td>\n",
       "      <td>2</td>\n",
       "      <td>0</td>\n",
       "      <td>0</td>\n",
       "    </tr>\n",
       "    <tr>\n",
       "      <th>2</th>\n",
       "      <td>0</td>\n",
       "      <td>3.986202</td>\n",
       "      <td>4.683519</td>\n",
       "      <td>1</td>\n",
       "      <td>0</td>\n",
       "      <td>1</td>\n",
       "      <td>1</td>\n",
       "      <td>1</td>\n",
       "      <td>0</td>\n",
       "      <td>0</td>\n",
       "      <td>2</td>\n",
       "      <td>2</td>\n",
       "      <td>0</td>\n",
       "    </tr>\n",
       "    <tr>\n",
       "      <th>3</th>\n",
       "      <td>0</td>\n",
       "      <td>3.744787</td>\n",
       "      <td>7.517928</td>\n",
       "      <td>0</td>\n",
       "      <td>1</td>\n",
       "      <td>0</td>\n",
       "      <td>0</td>\n",
       "      <td>1</td>\n",
       "      <td>1</td>\n",
       "      <td>0</td>\n",
       "      <td>2</td>\n",
       "      <td>0</td>\n",
       "      <td>2</td>\n",
       "    </tr>\n",
       "    <tr>\n",
       "      <th>4</th>\n",
       "      <td>0</td>\n",
       "      <td>4.258446</td>\n",
       "      <td>5.021575</td>\n",
       "      <td>1</td>\n",
       "      <td>0</td>\n",
       "      <td>1</td>\n",
       "      <td>1</td>\n",
       "      <td>0</td>\n",
       "      <td>0</td>\n",
       "      <td>1</td>\n",
       "      <td>0</td>\n",
       "      <td>0</td>\n",
       "      <td>0</td>\n",
       "    </tr>\n",
       "    <tr>\n",
       "      <th>...</th>\n",
       "      <td>...</td>\n",
       "      <td>...</td>\n",
       "      <td>...</td>\n",
       "      <td>...</td>\n",
       "      <td>...</td>\n",
       "      <td>...</td>\n",
       "      <td>...</td>\n",
       "      <td>...</td>\n",
       "      <td>...</td>\n",
       "      <td>...</td>\n",
       "      <td>...</td>\n",
       "      <td>...</td>\n",
       "      <td>...</td>\n",
       "    </tr>\n",
       "    <tr>\n",
       "      <th>7026</th>\n",
       "      <td>0</td>\n",
       "      <td>3.051640</td>\n",
       "      <td>7.257990</td>\n",
       "      <td>1</td>\n",
       "      <td>2</td>\n",
       "      <td>1</td>\n",
       "      <td>0</td>\n",
       "      <td>0</td>\n",
       "      <td>0</td>\n",
       "      <td>2</td>\n",
       "      <td>1</td>\n",
       "      <td>1</td>\n",
       "      <td>1</td>\n",
       "    </tr>\n",
       "    <tr>\n",
       "      <th>7027</th>\n",
       "      <td>0</td>\n",
       "      <td>4.440296</td>\n",
       "      <td>7.596141</td>\n",
       "      <td>1</td>\n",
       "      <td>1</td>\n",
       "      <td>1</td>\n",
       "      <td>0</td>\n",
       "      <td>1</td>\n",
       "      <td>2</td>\n",
       "      <td>0</td>\n",
       "      <td>2</td>\n",
       "      <td>0</td>\n",
       "      <td>2</td>\n",
       "    </tr>\n",
       "    <tr>\n",
       "      <th>7028</th>\n",
       "      <td>0</td>\n",
       "      <td>4.636669</td>\n",
       "      <td>8.904209</td>\n",
       "      <td>1</td>\n",
       "      <td>1</td>\n",
       "      <td>1</td>\n",
       "      <td>0</td>\n",
       "      <td>0</td>\n",
       "      <td>2</td>\n",
       "      <td>1</td>\n",
       "      <td>0</td>\n",
       "      <td>2</td>\n",
       "      <td>0</td>\n",
       "    </tr>\n",
       "    <tr>\n",
       "      <th>7029</th>\n",
       "      <td>0</td>\n",
       "      <td>3.387774</td>\n",
       "      <td>5.847739</td>\n",
       "      <td>0</td>\n",
       "      <td>0</td>\n",
       "      <td>1</td>\n",
       "      <td>0</td>\n",
       "      <td>0</td>\n",
       "      <td>1</td>\n",
       "      <td>0</td>\n",
       "      <td>2</td>\n",
       "      <td>0</td>\n",
       "      <td>0</td>\n",
       "    </tr>\n",
       "    <tr>\n",
       "      <th>7030</th>\n",
       "      <td>1</td>\n",
       "      <td>4.309456</td>\n",
       "      <td>5.725544</td>\n",
       "      <td>1</td>\n",
       "      <td>0</td>\n",
       "      <td>1</td>\n",
       "      <td>1</td>\n",
       "      <td>1</td>\n",
       "      <td>2</td>\n",
       "      <td>1</td>\n",
       "      <td>0</td>\n",
       "      <td>0</td>\n",
       "      <td>0</td>\n",
       "    </tr>\n",
       "  </tbody>\n",
       "</table>\n",
       "<p>7031 rows × 13 columns</p>\n",
       "</div>"
      ],
      "text/plain": [
       "      SeniorCitizen  MonthlyCharges_Log  TotalCharges_Log  PhoneService_new  \\\n",
       "0                 0            3.396185          3.396185                 0   \n",
       "1                 0            4.042174          7.544068                 1   \n",
       "2                 0            3.986202          4.683519                 1   \n",
       "3                 0            3.744787          7.517928                 0   \n",
       "4                 0            4.258446          5.021575                 1   \n",
       "...             ...                 ...               ...               ...   \n",
       "7026              0            3.051640          7.257990                 1   \n",
       "7027              0            4.440296          7.596141                 1   \n",
       "7028              0            4.636669          8.904209                 1   \n",
       "7029              0            3.387774          5.847739                 0   \n",
       "7030              1            4.309456          5.725544                 1   \n",
       "\n",
       "      Contract_new  PaperlessBilling_new  Churn_new  gender_new  \\\n",
       "0                0                     1          0           0   \n",
       "1                1                     0          0           1   \n",
       "2                0                     1          1           1   \n",
       "3                1                     0          0           1   \n",
       "4                0                     1          1           0   \n",
       "...            ...                   ...        ...         ...   \n",
       "7026             2                     1          0           0   \n",
       "7027             1                     1          0           1   \n",
       "7028             1                     1          0           0   \n",
       "7029             0                     1          0           0   \n",
       "7030             0                     1          1           1   \n",
       "\n",
       "      MultipleLines_new  InternetService_new  OnlineSecurity_new  \\\n",
       "0                     1                    0                   0   \n",
       "1                     0                    0                   2   \n",
       "2                     0                    0                   2   \n",
       "3                     1                    0                   2   \n",
       "4                     0                    1                   0   \n",
       "...                 ...                  ...                 ...   \n",
       "7026                  0                    2                   1   \n",
       "7027                  2                    0                   2   \n",
       "7028                  2                    1                   0   \n",
       "7029                  1                    0                   2   \n",
       "7030                  2                    1                   0   \n",
       "\n",
       "      OnlineBackup_new  TechSupport_new  \n",
       "0                    2                0  \n",
       "1                    0                0  \n",
       "2                    2                0  \n",
       "3                    0                2  \n",
       "4                    0                0  \n",
       "...                ...              ...  \n",
       "7026                 1                1  \n",
       "7027                 0                2  \n",
       "7028                 2                0  \n",
       "7029                 0                0  \n",
       "7030                 0                0  \n",
       "\n",
       "[7031 rows x 13 columns]"
      ]
     },
     "execution_count": 4,
     "metadata": {},
     "output_type": "execute_result"
    }
   ],
   "source": [
    "df"
   ]
  },
  {
   "cell_type": "code",
   "execution_count": 5,
   "metadata": {},
   "outputs": [],
   "source": [
    "# Our own class to be inserted into the pipeline\n",
    "class RawFeats:\n",
    "    def __init__(self, feats):\n",
    "        self.feats = feats\n",
    "\n",
    "    def fit(self, X, y=None):\n",
    "        pass\n",
    "\n",
    "    def transform(self, X, y=None):\n",
    "        return X[self.feats]\n",
    "\n",
    "    def fit_transform(self, X, y=None):\n",
    "        self.fit(X)\n",
    "        return self.transform(X)\n",
    "\n",
    "# Features from X we want to keep for our PCA\n",
    "feats = ['SeniorCitizen', 'MonthlyCharges_Log', 'TotalCharges_Log',\n",
    "       'PhoneService_new', 'Contract_new', 'PaperlessBilling_new',\n",
    "       'gender_new', 'MultipleLines_new', 'InternetService_new',\n",
    "       'OnlineSecurity_new', 'OnlineBackup_new', 'TechSupport_new']\n",
    "\n",
    "# Creating a class object with indexes we want to keep\n",
    "raw_feats = RawFeats(feats)"
   ]
  },
  {
   "cell_type": "code",
   "execution_count": 6,
   "metadata": {},
   "outputs": [
    {
     "name": "stdout",
     "output_type": "stream",
     "text": [
      "PCA(n_components=5)\n"
     ]
    }
   ],
   "source": [
    "# Scaling and doing the PCA\n",
    "sc = StandardScaler()\n",
    "pca = PCA(n_components=5)\n",
    "print(pca)"
   ]
  },
  {
   "cell_type": "code",
   "execution_count": 7,
   "metadata": {},
   "outputs": [
    {
     "name": "stdout",
     "output_type": "stream",
     "text": [
      "SelectKBest(k=3)\n"
     ]
    }
   ],
   "source": [
    "# Selecting the k-best\n",
    "selection = SelectKBest(k=3)\n",
    "print(selection)"
   ]
  },
  {
   "cell_type": "code",
   "execution_count": 8,
   "metadata": {},
   "outputs": [],
   "source": [
    "from sklearn.linear_model import LogisticRegression\n"
   ]
  },
  {
   "cell_type": "code",
   "execution_count": 9,
   "metadata": {},
   "outputs": [],
   "source": [
    "# Logistic Regressor Model\n",
    "lr = LogisticRegression()"
   ]
  },
  {
   "cell_type": "code",
   "execution_count": 10,
   "metadata": {},
   "outputs": [],
   "source": [
    "# Combining everything into our pipeline\n",
    "PCA_pipeline = Pipeline([\n",
    "    (\"rawFeats\", raw_feats),\n",
    "    (\"scaler\", sc),\n",
    "    (\"pca\", pca)\n",
    "])\n",
    "\n",
    "kbest_pipeline = Pipeline([(\"kBest\", selection)])"
   ]
  },
  {
   "cell_type": "code",
   "execution_count": 11,
   "metadata": {},
   "outputs": [],
   "source": [
    "# Combining the outputs with FeatureUnion\n",
    "all_features = FeatureUnion([\n",
    "    (\"pcaPipeline\", PCA_pipeline), \n",
    "    (\"kBestPipeline\", kbest_pipeline)\n",
    "])"
   ]
  },
  {
   "cell_type": "code",
   "execution_count": 12,
   "metadata": {},
   "outputs": [],
   "source": [
    "# Creating the main pipeline\n",
    "main_pipeline = Pipeline([\n",
    "    (\"features\", all_features),\n",
    "    (\"lr\", lr)\n",
    "])"
   ]
  },
  {
   "cell_type": "code",
   "execution_count": 13,
   "metadata": {},
   "outputs": [
    {
     "name": "stdout",
     "output_type": "stream",
     "text": [
      "dict_keys(['C', 'class_weight', 'dual', 'fit_intercept', 'intercept_scaling', 'l1_ratio', 'max_iter', 'multi_class', 'n_jobs', 'penalty', 'random_state', 'solver', 'tol', 'verbose', 'warm_start'])\n"
     ]
    }
   ],
   "source": [
    "# Checking the estimator parameters first\n",
    "estimator = LogisticRegression()\n",
    "print(estimator.get_params().keys())"
   ]
  },
  {
   "cell_type": "code",
   "execution_count": 14,
   "metadata": {},
   "outputs": [],
   "source": [
    "from sklearn.model_selection import GridSearchCV\n",
    "from sklearn.model_selection import train_test_split\n",
    "\n"
   ]
  },
  {
   "cell_type": "code",
   "execution_count": 15,
   "metadata": {},
   "outputs": [],
   "source": [
    "# Separating the dataframe between the X (independent) and y (dependent) variables\n",
    "X = df.drop('Churn_new', axis=1).select_dtypes(include=[np.number])\n",
    "y = df['Churn_new']\n",
    "X_train, X_test, y_train, y_test = train_test_split(X, y, test_size=0.25,random_state=100)"
   ]
  },
  {
   "cell_type": "code",
   "execution_count": 16,
   "metadata": {},
   "outputs": [
    {
     "data": {
      "text/html": [
       "<div>\n",
       "<style scoped>\n",
       "    .dataframe tbody tr th:only-of-type {\n",
       "        vertical-align: middle;\n",
       "    }\n",
       "\n",
       "    .dataframe tbody tr th {\n",
       "        vertical-align: top;\n",
       "    }\n",
       "\n",
       "    .dataframe thead th {\n",
       "        text-align: right;\n",
       "    }\n",
       "</style>\n",
       "<table border=\"1\" class=\"dataframe\">\n",
       "  <thead>\n",
       "    <tr style=\"text-align: right;\">\n",
       "      <th></th>\n",
       "      <th>SeniorCitizen</th>\n",
       "      <th>MonthlyCharges_Log</th>\n",
       "      <th>TotalCharges_Log</th>\n",
       "      <th>PhoneService_new</th>\n",
       "      <th>Contract_new</th>\n",
       "      <th>PaperlessBilling_new</th>\n",
       "      <th>Churn_new</th>\n",
       "      <th>gender_new</th>\n",
       "      <th>MultipleLines_new</th>\n",
       "      <th>InternetService_new</th>\n",
       "      <th>OnlineSecurity_new</th>\n",
       "      <th>OnlineBackup_new</th>\n",
       "      <th>TechSupport_new</th>\n",
       "    </tr>\n",
       "  </thead>\n",
       "  <tbody>\n",
       "    <tr>\n",
       "      <th>7026</th>\n",
       "      <td>0</td>\n",
       "      <td>3.051640</td>\n",
       "      <td>7.257990</td>\n",
       "      <td>1</td>\n",
       "      <td>2</td>\n",
       "      <td>1</td>\n",
       "      <td>0</td>\n",
       "      <td>0</td>\n",
       "      <td>0</td>\n",
       "      <td>2</td>\n",
       "      <td>1</td>\n",
       "      <td>1</td>\n",
       "      <td>1</td>\n",
       "    </tr>\n",
       "    <tr>\n",
       "      <th>7027</th>\n",
       "      <td>0</td>\n",
       "      <td>4.440296</td>\n",
       "      <td>7.596141</td>\n",
       "      <td>1</td>\n",
       "      <td>1</td>\n",
       "      <td>1</td>\n",
       "      <td>0</td>\n",
       "      <td>1</td>\n",
       "      <td>2</td>\n",
       "      <td>0</td>\n",
       "      <td>2</td>\n",
       "      <td>0</td>\n",
       "      <td>2</td>\n",
       "    </tr>\n",
       "    <tr>\n",
       "      <th>7028</th>\n",
       "      <td>0</td>\n",
       "      <td>4.636669</td>\n",
       "      <td>8.904209</td>\n",
       "      <td>1</td>\n",
       "      <td>1</td>\n",
       "      <td>1</td>\n",
       "      <td>0</td>\n",
       "      <td>0</td>\n",
       "      <td>2</td>\n",
       "      <td>1</td>\n",
       "      <td>0</td>\n",
       "      <td>2</td>\n",
       "      <td>0</td>\n",
       "    </tr>\n",
       "    <tr>\n",
       "      <th>7029</th>\n",
       "      <td>0</td>\n",
       "      <td>3.387774</td>\n",
       "      <td>5.847739</td>\n",
       "      <td>0</td>\n",
       "      <td>0</td>\n",
       "      <td>1</td>\n",
       "      <td>0</td>\n",
       "      <td>0</td>\n",
       "      <td>1</td>\n",
       "      <td>0</td>\n",
       "      <td>2</td>\n",
       "      <td>0</td>\n",
       "      <td>0</td>\n",
       "    </tr>\n",
       "    <tr>\n",
       "      <th>7030</th>\n",
       "      <td>1</td>\n",
       "      <td>4.309456</td>\n",
       "      <td>5.725544</td>\n",
       "      <td>1</td>\n",
       "      <td>0</td>\n",
       "      <td>1</td>\n",
       "      <td>1</td>\n",
       "      <td>1</td>\n",
       "      <td>2</td>\n",
       "      <td>1</td>\n",
       "      <td>0</td>\n",
       "      <td>0</td>\n",
       "      <td>0</td>\n",
       "    </tr>\n",
       "  </tbody>\n",
       "</table>\n",
       "</div>"
      ],
      "text/plain": [
       "      SeniorCitizen  MonthlyCharges_Log  TotalCharges_Log  PhoneService_new  \\\n",
       "7026              0            3.051640          7.257990                 1   \n",
       "7027              0            4.440296          7.596141                 1   \n",
       "7028              0            4.636669          8.904209                 1   \n",
       "7029              0            3.387774          5.847739                 0   \n",
       "7030              1            4.309456          5.725544                 1   \n",
       "\n",
       "      Contract_new  PaperlessBilling_new  Churn_new  gender_new  \\\n",
       "7026             2                     1          0           0   \n",
       "7027             1                     1          0           1   \n",
       "7028             1                     1          0           0   \n",
       "7029             0                     1          0           0   \n",
       "7030             0                     1          1           1   \n",
       "\n",
       "      MultipleLines_new  InternetService_new  OnlineSecurity_new  \\\n",
       "7026                  0                    2                   1   \n",
       "7027                  2                    0                   2   \n",
       "7028                  2                    1                   0   \n",
       "7029                  1                    0                   2   \n",
       "7030                  2                    1                   0   \n",
       "\n",
       "      OnlineBackup_new  TechSupport_new  \n",
       "7026                 1                1  \n",
       "7027                 0                2  \n",
       "7028                 2                0  \n",
       "7029                 0                0  \n",
       "7030                 0                0  "
      ]
     },
     "execution_count": 16,
     "metadata": {},
     "output_type": "execute_result"
    }
   ],
   "source": [
    "# Checking the end of our dataset\n",
    "df.tail()"
   ]
  },
  {
   "cell_type": "code",
   "execution_count": 17,
   "metadata": {},
   "outputs": [
    {
     "data": {
      "text/html": [
       "<div>\n",
       "<style scoped>\n",
       "    .dataframe tbody tr th:only-of-type {\n",
       "        vertical-align: middle;\n",
       "    }\n",
       "\n",
       "    .dataframe tbody tr th {\n",
       "        vertical-align: top;\n",
       "    }\n",
       "\n",
       "    .dataframe thead th {\n",
       "        text-align: right;\n",
       "    }\n",
       "</style>\n",
       "<table border=\"1\" class=\"dataframe\">\n",
       "  <thead>\n",
       "    <tr style=\"text-align: right;\">\n",
       "      <th></th>\n",
       "      <th>SeniorCitizen</th>\n",
       "      <th>MonthlyCharges_Log</th>\n",
       "      <th>TotalCharges_Log</th>\n",
       "      <th>PhoneService_new</th>\n",
       "      <th>Contract_new</th>\n",
       "      <th>PaperlessBilling_new</th>\n",
       "      <th>gender_new</th>\n",
       "      <th>MultipleLines_new</th>\n",
       "      <th>InternetService_new</th>\n",
       "      <th>OnlineSecurity_new</th>\n",
       "      <th>OnlineBackup_new</th>\n",
       "      <th>TechSupport_new</th>\n",
       "    </tr>\n",
       "  </thead>\n",
       "  <tbody>\n",
       "    <tr>\n",
       "      <th>79</th>\n",
       "      <td>0</td>\n",
       "      <td>3.254243</td>\n",
       "      <td>7.103815</td>\n",
       "      <td>1</td>\n",
       "      <td>1</td>\n",
       "      <td>1</td>\n",
       "      <td>0</td>\n",
       "      <td>2</td>\n",
       "      <td>2</td>\n",
       "      <td>1</td>\n",
       "      <td>1</td>\n",
       "      <td>1</td>\n",
       "    </tr>\n",
       "    <tr>\n",
       "      <th>3927</th>\n",
       "      <td>0</td>\n",
       "      <td>3.695110</td>\n",
       "      <td>6.019688</td>\n",
       "      <td>0</td>\n",
       "      <td>1</td>\n",
       "      <td>0</td>\n",
       "      <td>0</td>\n",
       "      <td>1</td>\n",
       "      <td>0</td>\n",
       "      <td>2</td>\n",
       "      <td>2</td>\n",
       "      <td>2</td>\n",
       "    </tr>\n",
       "    <tr>\n",
       "      <th>5955</th>\n",
       "      <td>0</td>\n",
       "      <td>4.123094</td>\n",
       "      <td>8.014385</td>\n",
       "      <td>1</td>\n",
       "      <td>0</td>\n",
       "      <td>0</td>\n",
       "      <td>0</td>\n",
       "      <td>0</td>\n",
       "      <td>0</td>\n",
       "      <td>2</td>\n",
       "      <td>0</td>\n",
       "      <td>2</td>\n",
       "    </tr>\n",
       "    <tr>\n",
       "      <th>6936</th>\n",
       "      <td>0</td>\n",
       "      <td>4.615615</td>\n",
       "      <td>8.820330</td>\n",
       "      <td>1</td>\n",
       "      <td>1</td>\n",
       "      <td>1</td>\n",
       "      <td>1</td>\n",
       "      <td>2</td>\n",
       "      <td>1</td>\n",
       "      <td>0</td>\n",
       "      <td>2</td>\n",
       "      <td>0</td>\n",
       "    </tr>\n",
       "    <tr>\n",
       "      <th>5640</th>\n",
       "      <td>0</td>\n",
       "      <td>2.998229</td>\n",
       "      <td>6.506456</td>\n",
       "      <td>1</td>\n",
       "      <td>0</td>\n",
       "      <td>0</td>\n",
       "      <td>0</td>\n",
       "      <td>0</td>\n",
       "      <td>2</td>\n",
       "      <td>1</td>\n",
       "      <td>1</td>\n",
       "      <td>1</td>\n",
       "    </tr>\n",
       "  </tbody>\n",
       "</table>\n",
       "</div>"
      ],
      "text/plain": [
       "      SeniorCitizen  MonthlyCharges_Log  TotalCharges_Log  PhoneService_new  \\\n",
       "79                0            3.254243          7.103815                 1   \n",
       "3927              0            3.695110          6.019688                 0   \n",
       "5955              0            4.123094          8.014385                 1   \n",
       "6936              0            4.615615          8.820330                 1   \n",
       "5640              0            2.998229          6.506456                 1   \n",
       "\n",
       "      Contract_new  PaperlessBilling_new  gender_new  MultipleLines_new  \\\n",
       "79               1                     1           0                  2   \n",
       "3927             1                     0           0                  1   \n",
       "5955             0                     0           0                  0   \n",
       "6936             1                     1           1                  2   \n",
       "5640             0                     0           0                  0   \n",
       "\n",
       "      InternetService_new  OnlineSecurity_new  OnlineBackup_new  \\\n",
       "79                      2                   1                 1   \n",
       "3927                    0                   2                 2   \n",
       "5955                    0                   2                 0   \n",
       "6936                    1                   0                 2   \n",
       "5640                    2                   1                 1   \n",
       "\n",
       "      TechSupport_new  \n",
       "79                  1  \n",
       "3927                2  \n",
       "5955                2  \n",
       "6936                0  \n",
       "5640                1  "
      ]
     },
     "execution_count": 17,
     "metadata": {},
     "output_type": "execute_result"
    }
   ],
   "source": [
    "X_train.tail()"
   ]
  },
  {
   "cell_type": "code",
   "execution_count": 18,
   "metadata": {},
   "outputs": [
    {
     "data": {
      "text/plain": [
       "<bound method NDFrame.tail of 5513    1\n",
       "1671    0\n",
       "510     0\n",
       "1590    1\n",
       "6360    0\n",
       "       ..\n",
       "79      0\n",
       "3927    0\n",
       "5955    0\n",
       "6936    0\n",
       "5640    0\n",
       "Name: Churn_new, Length: 5273, dtype: int64>"
      ]
     },
     "execution_count": 18,
     "metadata": {},
     "output_type": "execute_result"
    }
   ],
   "source": [
    "y_train.tail"
   ]
  },
  {
   "cell_type": "code",
   "execution_count": 19,
   "metadata": {},
   "outputs": [
    {
     "name": "stdout",
     "output_type": "stream",
     "text": [
      "Fitting 5 folds for each of 720 candidates, totalling 3600 fits\n"
     ]
    },
    {
     "data": {
      "text/plain": [
       "GridSearchCV(estimator=Pipeline(steps=[('features',\n",
       "                                        FeatureUnion(transformer_list=[('pcaPipeline',\n",
       "                                                                        Pipeline(steps=[('rawFeats',\n",
       "                                                                                         <__main__.RawFeats object at 0x000001651A902700>),\n",
       "                                                                                        ('scaler',\n",
       "                                                                                         StandardScaler()),\n",
       "                                                                                        ('pca',\n",
       "                                                                                         PCA(n_components=5))])),\n",
       "                                                                       ('kBestPipeline',\n",
       "                                                                        Pipeline(steps=[('kBest',\n",
       "                                                                                         SelectKBest(k=3))]))])),\n",
       "                                       ('lr', LogisticRegression())]),\n",
       "             n_jobs=-1,\n",
       "             param_grid={'features__kBestPipeline__kBest__k': [1, 2, 3],\n",
       "                         'features__pcaPipeline__pca__n_components': [1, 2, 3,\n",
       "                                                                      4, 5],\n",
       "                         'lr__C': [0.1, 1, 10, 100],\n",
       "                         'lr__max_iter': [100, 500, 1000],\n",
       "                         'lr__penalty': ['l1', 'l2'],\n",
       "                         'lr__solver': ['liblinear', 'saga']},\n",
       "             verbose=10)"
      ]
     },
     "execution_count": 19,
     "metadata": {},
     "output_type": "execute_result"
    }
   ],
   "source": [
    "# Seeting the hyperparameter tunning with GridSearchCV\n",
    "param_grid = {\"features__pcaPipeline__pca__n_components\": [1, 2, 3, 4, 5],\n",
    "                  \"features__kBestPipeline__kBest__k\": [1, 2, 3],\n",
    "                  \"lr__max_iter\":[100, 500, 1000],\n",
    "                  \"lr__C\": [0.1, 1, 10, 100], \n",
    "                  \"lr__penalty\": ['l1', 'l2'],\n",
    "                  \"lr__solver\": ['liblinear', 'saga']\n",
    "             }\n",
    "\n",
    "# Creating a Grid Search object\n",
    "grid_search = GridSearchCV(main_pipeline, param_grid, n_jobs = -1, verbose=10, refit=True)    \n",
    "\n",
    "# Fitting the model and tune parameters\n",
    "grid_search.fit(X_train, y_train)"
   ]
  },
  {
   "cell_type": "code",
   "execution_count": 20,
   "metadata": {},
   "outputs": [
    {
     "data": {
      "text/html": [
       "<style>#sk-7e0eafd7-f7af-4f15-a125-212995aa080b {color: black;background-color: white;}#sk-7e0eafd7-f7af-4f15-a125-212995aa080b pre{padding: 0;}#sk-7e0eafd7-f7af-4f15-a125-212995aa080b div.sk-toggleable {background-color: white;}#sk-7e0eafd7-f7af-4f15-a125-212995aa080b label.sk-toggleable__label {cursor: pointer;display: block;width: 100%;margin-bottom: 0;padding: 0.3em;box-sizing: border-box;text-align: center;}#sk-7e0eafd7-f7af-4f15-a125-212995aa080b label.sk-toggleable__label-arrow:before {content: \"▸\";float: left;margin-right: 0.25em;color: #696969;}#sk-7e0eafd7-f7af-4f15-a125-212995aa080b label.sk-toggleable__label-arrow:hover:before {color: black;}#sk-7e0eafd7-f7af-4f15-a125-212995aa080b div.sk-estimator:hover label.sk-toggleable__label-arrow:before {color: black;}#sk-7e0eafd7-f7af-4f15-a125-212995aa080b div.sk-toggleable__content {max-height: 0;max-width: 0;overflow: hidden;text-align: left;background-color: #f0f8ff;}#sk-7e0eafd7-f7af-4f15-a125-212995aa080b div.sk-toggleable__content pre {margin: 0.2em;color: black;border-radius: 0.25em;background-color: #f0f8ff;}#sk-7e0eafd7-f7af-4f15-a125-212995aa080b input.sk-toggleable__control:checked~div.sk-toggleable__content {max-height: 200px;max-width: 100%;overflow: auto;}#sk-7e0eafd7-f7af-4f15-a125-212995aa080b input.sk-toggleable__control:checked~label.sk-toggleable__label-arrow:before {content: \"▾\";}#sk-7e0eafd7-f7af-4f15-a125-212995aa080b div.sk-estimator input.sk-toggleable__control:checked~label.sk-toggleable__label {background-color: #d4ebff;}#sk-7e0eafd7-f7af-4f15-a125-212995aa080b div.sk-label input.sk-toggleable__control:checked~label.sk-toggleable__label {background-color: #d4ebff;}#sk-7e0eafd7-f7af-4f15-a125-212995aa080b input.sk-hidden--visually {border: 0;clip: rect(1px 1px 1px 1px);clip: rect(1px, 1px, 1px, 1px);height: 1px;margin: -1px;overflow: hidden;padding: 0;position: absolute;width: 1px;}#sk-7e0eafd7-f7af-4f15-a125-212995aa080b div.sk-estimator {font-family: monospace;background-color: #f0f8ff;border: 1px dotted black;border-radius: 0.25em;box-sizing: border-box;margin-bottom: 0.5em;}#sk-7e0eafd7-f7af-4f15-a125-212995aa080b div.sk-estimator:hover {background-color: #d4ebff;}#sk-7e0eafd7-f7af-4f15-a125-212995aa080b div.sk-parallel-item::after {content: \"\";width: 100%;border-bottom: 1px solid gray;flex-grow: 1;}#sk-7e0eafd7-f7af-4f15-a125-212995aa080b div.sk-label:hover label.sk-toggleable__label {background-color: #d4ebff;}#sk-7e0eafd7-f7af-4f15-a125-212995aa080b div.sk-serial::before {content: \"\";position: absolute;border-left: 1px solid gray;box-sizing: border-box;top: 2em;bottom: 0;left: 50%;}#sk-7e0eafd7-f7af-4f15-a125-212995aa080b div.sk-serial {display: flex;flex-direction: column;align-items: center;background-color: white;padding-right: 0.2em;padding-left: 0.2em;}#sk-7e0eafd7-f7af-4f15-a125-212995aa080b div.sk-item {z-index: 1;}#sk-7e0eafd7-f7af-4f15-a125-212995aa080b div.sk-parallel {display: flex;align-items: stretch;justify-content: center;background-color: white;}#sk-7e0eafd7-f7af-4f15-a125-212995aa080b div.sk-parallel::before {content: \"\";position: absolute;border-left: 1px solid gray;box-sizing: border-box;top: 2em;bottom: 0;left: 50%;}#sk-7e0eafd7-f7af-4f15-a125-212995aa080b div.sk-parallel-item {display: flex;flex-direction: column;position: relative;background-color: white;}#sk-7e0eafd7-f7af-4f15-a125-212995aa080b div.sk-parallel-item:first-child::after {align-self: flex-end;width: 50%;}#sk-7e0eafd7-f7af-4f15-a125-212995aa080b div.sk-parallel-item:last-child::after {align-self: flex-start;width: 50%;}#sk-7e0eafd7-f7af-4f15-a125-212995aa080b div.sk-parallel-item:only-child::after {width: 0;}#sk-7e0eafd7-f7af-4f15-a125-212995aa080b div.sk-dashed-wrapped {border: 1px dashed gray;margin: 0 0.4em 0.5em 0.4em;box-sizing: border-box;padding-bottom: 0.4em;background-color: white;position: relative;}#sk-7e0eafd7-f7af-4f15-a125-212995aa080b div.sk-label label {font-family: monospace;font-weight: bold;background-color: white;display: inline-block;line-height: 1.2em;}#sk-7e0eafd7-f7af-4f15-a125-212995aa080b div.sk-label-container {position: relative;z-index: 2;text-align: center;}#sk-7e0eafd7-f7af-4f15-a125-212995aa080b div.sk-container {/* jupyter's `normalize.less` sets `[hidden] { display: none; }` but bootstrap.min.css set `[hidden] { display: none !important; }` so we also need the `!important` here to be able to override the default hidden behavior on the sphinx rendered scikit-learn.org. See: https://github.com/scikit-learn/scikit-learn/issues/21755 */display: inline-block !important;position: relative;}#sk-7e0eafd7-f7af-4f15-a125-212995aa080b div.sk-text-repr-fallback {display: none;}</style><div id=\"sk-7e0eafd7-f7af-4f15-a125-212995aa080b\" class=\"sk-top-container\"><div class=\"sk-text-repr-fallback\"><pre>Pipeline(steps=[(&#x27;features&#x27;,\n",
       "                 FeatureUnion(transformer_list=[(&#x27;pcaPipeline&#x27;,\n",
       "                                                 Pipeline(steps=[(&#x27;rawFeats&#x27;,\n",
       "                                                                  &lt;__main__.RawFeats object at 0x000001651A902700&gt;),\n",
       "                                                                 (&#x27;scaler&#x27;,\n",
       "                                                                  StandardScaler()),\n",
       "                                                                 (&#x27;pca&#x27;,\n",
       "                                                                  PCA(n_components=5))])),\n",
       "                                                (&#x27;kBestPipeline&#x27;,\n",
       "                                                 Pipeline(steps=[(&#x27;kBest&#x27;,\n",
       "                                                                  SelectKBest(k=3))]))])),\n",
       "                (&#x27;lr&#x27;, LogisticRegression())])</pre><b>Please rerun this cell to show the HTML repr or trust the notebook.</b></div><div class=\"sk-container\" hidden><div class=\"sk-item sk-dashed-wrapped\"><div class=\"sk-label-container\"><div class=\"sk-label sk-toggleable\"><input class=\"sk-toggleable__control sk-hidden--visually\" id=\"775255fd-072a-428e-9cff-d17da3515cd8\" type=\"checkbox\" ><label for=\"775255fd-072a-428e-9cff-d17da3515cd8\" class=\"sk-toggleable__label sk-toggleable__label-arrow\">Pipeline</label><div class=\"sk-toggleable__content\"><pre>Pipeline(steps=[(&#x27;features&#x27;,\n",
       "                 FeatureUnion(transformer_list=[(&#x27;pcaPipeline&#x27;,\n",
       "                                                 Pipeline(steps=[(&#x27;rawFeats&#x27;,\n",
       "                                                                  &lt;__main__.RawFeats object at 0x000001651A902700&gt;),\n",
       "                                                                 (&#x27;scaler&#x27;,\n",
       "                                                                  StandardScaler()),\n",
       "                                                                 (&#x27;pca&#x27;,\n",
       "                                                                  PCA(n_components=5))])),\n",
       "                                                (&#x27;kBestPipeline&#x27;,\n",
       "                                                 Pipeline(steps=[(&#x27;kBest&#x27;,\n",
       "                                                                  SelectKBest(k=3))]))])),\n",
       "                (&#x27;lr&#x27;, LogisticRegression())])</pre></div></div></div><div class=\"sk-serial\"><div class=\"sk-item sk-dashed-wrapped\"><div class=\"sk-label-container\"><div class=\"sk-label sk-toggleable\"><input class=\"sk-toggleable__control sk-hidden--visually\" id=\"cc333c5a-3027-49fb-9d7b-eb8f3acedeef\" type=\"checkbox\" ><label for=\"cc333c5a-3027-49fb-9d7b-eb8f3acedeef\" class=\"sk-toggleable__label sk-toggleable__label-arrow\">features: FeatureUnion</label><div class=\"sk-toggleable__content\"><pre>FeatureUnion(transformer_list=[(&#x27;pcaPipeline&#x27;,\n",
       "                                Pipeline(steps=[(&#x27;rawFeats&#x27;,\n",
       "                                                 &lt;__main__.RawFeats object at 0x000001651A902700&gt;),\n",
       "                                                (&#x27;scaler&#x27;, StandardScaler()),\n",
       "                                                (&#x27;pca&#x27;, PCA(n_components=5))])),\n",
       "                               (&#x27;kBestPipeline&#x27;,\n",
       "                                Pipeline(steps=[(&#x27;kBest&#x27;, SelectKBest(k=3))]))])</pre></div></div></div><div class=\"sk-parallel\"><div class=\"sk-parallel-item\"><div class=\"sk-item\"><div class=\"sk-label-container\"><div class=\"sk-label sk-toggleable\"><label>pcaPipeline</label></div></div><div class=\"sk-serial\"><div class=\"sk-item\"><div class=\"sk-serial\"><div class=\"sk-item\"><div class=\"sk-estimator sk-toggleable\"><input class=\"sk-toggleable__control sk-hidden--visually\" id=\"9f22f861-1ee1-4868-8523-191273f5f497\" type=\"checkbox\" ><label for=\"9f22f861-1ee1-4868-8523-191273f5f497\" class=\"sk-toggleable__label sk-toggleable__label-arrow\">RawFeats</label><div class=\"sk-toggleable__content\"><pre>&lt;__main__.RawFeats object at 0x000001651A902700&gt;</pre></div></div></div><div class=\"sk-item\"><div class=\"sk-estimator sk-toggleable\"><input class=\"sk-toggleable__control sk-hidden--visually\" id=\"ca82b017-4963-4220-bff1-446cef1ab69a\" type=\"checkbox\" ><label for=\"ca82b017-4963-4220-bff1-446cef1ab69a\" class=\"sk-toggleable__label sk-toggleable__label-arrow\">StandardScaler</label><div class=\"sk-toggleable__content\"><pre>StandardScaler()</pre></div></div></div><div class=\"sk-item\"><div class=\"sk-estimator sk-toggleable\"><input class=\"sk-toggleable__control sk-hidden--visually\" id=\"94201e29-26e3-46ca-966c-9720926f67b4\" type=\"checkbox\" ><label for=\"94201e29-26e3-46ca-966c-9720926f67b4\" class=\"sk-toggleable__label sk-toggleable__label-arrow\">PCA</label><div class=\"sk-toggleable__content\"><pre>PCA(n_components=5)</pre></div></div></div></div></div></div></div></div><div class=\"sk-parallel-item\"><div class=\"sk-item\"><div class=\"sk-label-container\"><div class=\"sk-label sk-toggleable\"><label>kBestPipeline</label></div></div><div class=\"sk-serial\"><div class=\"sk-item\"><div class=\"sk-serial\"><div class=\"sk-item\"><div class=\"sk-estimator sk-toggleable\"><input class=\"sk-toggleable__control sk-hidden--visually\" id=\"875bbddf-69fd-406d-9ee1-644c70ccccbb\" type=\"checkbox\" ><label for=\"875bbddf-69fd-406d-9ee1-644c70ccccbb\" class=\"sk-toggleable__label sk-toggleable__label-arrow\">SelectKBest</label><div class=\"sk-toggleable__content\"><pre>SelectKBest(k=3)</pre></div></div></div></div></div></div></div></div></div></div><div class=\"sk-item\"><div class=\"sk-estimator sk-toggleable\"><input class=\"sk-toggleable__control sk-hidden--visually\" id=\"727c30be-a669-488b-aa18-5bec23dd5658\" type=\"checkbox\" ><label for=\"727c30be-a669-488b-aa18-5bec23dd5658\" class=\"sk-toggleable__label sk-toggleable__label-arrow\">LogisticRegression</label><div class=\"sk-toggleable__content\"><pre>LogisticRegression()</pre></div></div></div></div></div></div></div>"
      ],
      "text/plain": [
       "Pipeline(steps=[('features',\n",
       "                 FeatureUnion(transformer_list=[('pcaPipeline',\n",
       "                                                 Pipeline(steps=[('rawFeats',\n",
       "                                                                  <__main__.RawFeats object at 0x000001651A902700>),\n",
       "                                                                 ('scaler',\n",
       "                                                                  StandardScaler()),\n",
       "                                                                 ('pca',\n",
       "                                                                  PCA(n_components=5))])),\n",
       "                                                ('kBestPipeline',\n",
       "                                                 Pipeline(steps=[('kBest',\n",
       "                                                                  SelectKBest(k=3))]))])),\n",
       "                ('lr', LogisticRegression())])"
      ]
     },
     "execution_count": 20,
     "metadata": {},
     "output_type": "execute_result"
    }
   ],
   "source": [
    "# Visualizing the pipeline\n",
    "from sklearn import set_config\n",
    "set_config(display='diagram')\n",
    "main_pipeline"
   ]
  },
  {
   "cell_type": "code",
   "execution_count": 21,
   "metadata": {},
   "outputs": [],
   "source": [
    "# Saving the pipeline_combined_final HTML to a file\n",
    "from sklearn.utils import estimator_html_repr\n",
    "\n",
    "with open('main_pipeline_13F.html', 'w', encoding=\"utf-16\") as f:  \n",
    "    f.write(estimator_html_repr(main_pipeline))"
   ]
  },
  {
   "cell_type": "code",
   "execution_count": 22,
   "metadata": {},
   "outputs": [
    {
     "name": "stdout",
     "output_type": "stream",
     "text": [
      "{'features__kBestPipeline__kBest__k': 1, 'features__pcaPipeline__pca__n_components': 5, 'lr__C': 1, 'lr__max_iter': 100, 'lr__penalty': 'l1', 'lr__solver': 'saga'}\n"
     ]
    }
   ],
   "source": [
    "# Checking the best parameters\n",
    "print(grid_search.best_params_)"
   ]
  },
  {
   "cell_type": "code",
   "execution_count": 23,
   "metadata": {},
   "outputs": [
    {
     "name": "stdout",
     "output_type": "stream",
     "text": [
      "Predicted outcome: [1 0 0 1 0 1 0 0 1 0]\n"
     ]
    }
   ],
   "source": [
    "# Testing the model tunned\n",
    "X_test_row = X_test.loc[:, ]\n",
    "y_pred = grid_search.predict(X_test_row)\n",
    "print(\"Predicted outcome:\", y_pred[0:10])"
   ]
  },
  {
   "cell_type": "code",
   "execution_count": 24,
   "metadata": {},
   "outputs": [],
   "source": [
    "from sklearn.metrics import accuracy_score,f1_score\n"
   ]
  },
  {
   "cell_type": "code",
   "execution_count": 25,
   "metadata": {},
   "outputs": [
    {
     "name": "stdout",
     "output_type": "stream",
     "text": [
      "Accuracy: 0.7656427758816837\n",
      "Score: 0.6734769687964339\n"
     ]
    }
   ],
   "source": [
    "# Calculating the accuracy and score of the best estimator\n",
    "accuracy = accuracy_score(y_test, y_pred)\n",
    "score = f1_score(y_test, y_pred, average='macro')\n",
    "\n",
    "print(\"Accuracy:\", accuracy)\n",
    "print(\"Score:\", score)"
   ]
  },
  {
   "cell_type": "code",
   "execution_count": 26,
   "metadata": {},
   "outputs": [
    {
     "data": {
      "text/plain": [
       "(1758, 12)"
      ]
     },
     "execution_count": 26,
     "metadata": {},
     "output_type": "execute_result"
    }
   ],
   "source": [
    "X_test.shape\n"
   ]
  },
  {
   "cell_type": "code",
   "execution_count": 27,
   "metadata": {},
   "outputs": [],
   "source": [
    "import pickle\n",
    "pickle.dump( grid_search, open( \"PipeModel_13F.pkl\", \"wb\" ) )\n"
   ]
  }
 ],
 "metadata": {
  "kernelspec": {
   "display_name": "base",
   "language": "python",
   "name": "python3"
  },
  "language_info": {
   "codemirror_mode": {
    "name": "ipython",
    "version": 3
   },
   "file_extension": ".py",
   "mimetype": "text/x-python",
   "name": "python",
   "nbconvert_exporter": "python",
   "pygments_lexer": "ipython3",
   "version": "3.9.13"
  },
  "orig_nbformat": 4
 },
 "nbformat": 4,
 "nbformat_minor": 2
}
