{
 "cells": [
  {
   "cell_type": "code",
   "execution_count": 3,
   "metadata": {},
   "outputs": [
    {
     "name": "stdout",
     "output_type": "stream",
     "text": [
      "...\n",
      "request successful\n",
      "...\n",
      "{'prediction': '[0]'}\n"
     ]
    }
   ],
   "source": [
    "## Python test file for flask to test locally\n",
    "import requests as r\n",
    "import pandas as pd\n",
    "import json\n",
    "\n",
    "\n",
    "base_url = 'http://127.0.0.1:5000/' #base url local host\n",
    "\n",
    "json_data = [\n",
    "    {\n",
    "    \"SeniorCitizen\" : 0,\n",
    "    \"MonthlyCharges_Log\" :20,\n",
    "    \"TotalCharges_Log\" : 2000,\n",
    "    \"PhoneService_new\" : 1,\n",
    "    \"Contract_new\" : 0,\n",
    "    \"PaperlessBilling_new\" : 1,\n",
    "    \"gender_new\" : 1,\n",
    "    \"MultipleLines_new\" : 1,\n",
    "    \"InternetService_new\" : 0,\n",
    "    \"OnlineSecurity_new\" : 2,\n",
    "    \"OnlineBackup_new\" : 2,\n",
    "    \"TechSupport_new\" :0\n",
    "     }\n",
    "]\n",
    "\n",
    "\n",
    "# Get Response\n",
    "# response = r.get(base_url)\n",
    "response = r.post(base_url + \"predict\", json = json_data)\n",
    "\n",
    "\n",
    "if response.status_code == 200:\n",
    "    print('...')\n",
    "    print('request successful')\n",
    "    print('...')\n",
    "    print(response.json())\n",
    "else:\n",
    "    print(response.json())\n",
    "    print('request failed')"
   ]
  }
 ],
 "metadata": {
  "kernelspec": {
   "display_name": "base",
   "language": "python",
   "name": "python3"
  },
  "language_info": {
   "codemirror_mode": {
    "name": "ipython",
    "version": 3
   },
   "file_extension": ".py",
   "mimetype": "text/x-python",
   "name": "python",
   "nbconvert_exporter": "python",
   "pygments_lexer": "ipython3",
   "version": "3.9.13"
  },
  "orig_nbformat": 4
 },
 "nbformat": 4,
 "nbformat_minor": 2
}
